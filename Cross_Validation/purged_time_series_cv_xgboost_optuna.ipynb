{
  "cells": [
    {
      "cell_type": "markdown",
      "source": [
        "source: https://www.kaggle.com/code/marketneutral/purged-time-series-cv-xgboost-optuna?scriptVersionId=49427817"
      ],
      "metadata": {
        "id": "BAcx4uNLvKdK"
      }
    },
    {
      "cell_type": "code",
      "execution_count": null,
      "metadata": {
        "execution": {
          "iopub.execute_input": "2020-12-15T20:11:57.346512Z",
          "iopub.status.busy": "2020-12-15T20:11:57.345792Z",
          "iopub.status.idle": "2020-12-15T20:11:57.447861Z",
          "shell.execute_reply": "2020-12-15T20:11:57.447351Z"
        },
        "papermill": {
          "duration": 0.138805,
          "end_time": "2020-12-15T20:11:57.447976",
          "exception": false,
          "start_time": "2020-12-15T20:11:57.309171",
          "status": "completed"
        },
        "tags": [],
        "id": "szkqMNqUvGgm",
        "outputId": "6423d7ad-1b28-427d-fa6b-1f3d561137fd"
      },
      "outputs": [
        {
          "data": {
            "text/html": [
              "<style type='text/css'>\n",
              ".datatable table.frame { margin-bottom: 0; }\n",
              ".datatable table.frame thead { border-bottom: none; }\n",
              ".datatable table.frame tr.coltypes td {  color: #FFFFFF;  line-height: 6px;  padding: 0 0.5em;}\n",
              ".datatable .bool    { background: #DDDD99; }\n",
              ".datatable .object  { background: #565656; }\n",
              ".datatable .int     { background: #5D9E5D; }\n",
              ".datatable .float   { background: #4040CC; }\n",
              ".datatable .str     { background: #CC4040; }\n",
              ".datatable .row_index {  background: var(--jp-border-color3);  border-right: 1px solid var(--jp-border-color0);  color: var(--jp-ui-font-color3);  font-size: 9px;}\n",
              ".datatable .frame tr.coltypes .row_index {  background: var(--jp-border-color0);}\n",
              ".datatable th:nth-child(2) { padding-left: 12px; }\n",
              ".datatable .hellipsis {  color: var(--jp-cell-editor-border-color);}\n",
              ".datatable .vellipsis {  background: var(--jp-layout-color0);  color: var(--jp-cell-editor-border-color);}\n",
              ".datatable .na {  color: var(--jp-cell-editor-border-color);  font-size: 80%;}\n",
              ".datatable .footer { font-size: 9px; }\n",
              ".datatable .frame_dimensions {  background: var(--jp-border-color3);  border-top: 1px solid var(--jp-border-color0);  color: var(--jp-ui-font-color3);  display: inline-block;  opacity: 0.6;  padding: 1px 10px 1px 5px;}\n",
              ".datatable .frame thead tr.colnames {  background-image: url('data:image/png;base64,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');  background-repeat: repeat-x;  background-size: 14px;  height: 28px;}\n",
              "</style>\n"
            ],
            "text/plain": [
              "<IPython.core.display.HTML object>"
            ]
          },
          "metadata": {},
          "output_type": "display_data"
        }
      ],
      "source": [
        "import janestreet\n",
        "import datatable as dt\n",
        "import numpy as np\n",
        "import pandas as pd\n",
        "import matplotlib.pyplot as plt\n",
        "import gc\n",
        "\n",
        "from tqdm.notebook import tqdm\n",
        "\n",
        "import warnings\n",
        "warnings.simplefilter(action='ignore', category=FutureWarning)\n",
        "warnings.simplefilter(action='ignore', category=pd.core.common.SettingWithCopyWarning)\n",
        "\n",
        "plt.style.use('bmh')\n",
        "plt.rcParams['figure.figsize'] = [14, 8]  # width, height"
      ]
    },
    {
      "cell_type": "markdown",
      "metadata": {
        "papermill": {
          "duration": 0.02773,
          "end_time": "2020-12-15T20:11:57.504846",
          "exception": false,
          "start_time": "2020-12-15T20:11:57.477116",
          "status": "completed"
        },
        "tags": [],
        "id": "h-DcpdWNvGgp"
      },
      "source": [
        "\n",
        "# Time Series Cross Validation\n",
        "\n",
        "> \"There are many different ways one can do cross-validation, and **it is the most critical step when building a good machine learning model** which is generalizable when it comes to unseen data.\"\n",
        "-- **Approaching (Almost) Any Machine Learning Problem**, by Abhishek Thakur\n",
        "\n",
        "CV is the **first** step, but very few notebooks are talking about this. Here we look at \"purged rolling time series CV\" and actually apply it in hyperparameter tuning for a basic estimator. This notebook owes a debt of gratitude to the notebook [\"Found the Holy Grail GroupTimeSeriesSplit\"](https://www.kaggle.com/jorijnsmit/found-the-holy-grail-grouptimeseriessplit). That notebook is excellent and this solution is an extention of the quoted pending sklearn estimator. I modify that estimator to make it more suitable for the task at hand in this competition. The changes are\n",
        "\n",
        "- you can specify a **gap** between each train and validation split. This is important because even though the **group** aspect keeps whole days together, we suspect that the anonymized features have some kind of lag or window calculations in them (which would be standard for financial features). By introducing a gap, we mitigate the risk that we leak information from train into validation\n",
        "- we can specify the size of the train and validation splits in terms of **number of days**. The ability to specify a validation set size is new and the the ability to specify days, as opposed to samples, is new.\n",
        "\n",
        "The code for `PurgedTimeSeriesSplit` is below. I've hiden it becaused it is really meant to act as an imported class. If you want to see the code and copy for your work, click on the \"Code\" box."
      ]
    },
    {
      "cell_type": "code",
      "execution_count": null,
      "metadata": {
        "_cell_guid": "79c7e3d0-c299-4dcb-8224-4455121ee9b0",
        "_kg_hide-input": true,
        "_uuid": "d629ff2d2480ee46fbb7e2d37f6b5fab8052498a",
        "execution": {
          "iopub.execute_input": "2020-12-15T20:11:57.585761Z",
          "iopub.status.busy": "2020-12-15T20:11:57.574733Z",
          "iopub.status.idle": "2020-12-15T20:11:58.533296Z",
          "shell.execute_reply": "2020-12-15T20:11:58.532571Z"
        },
        "papermill": {
          "duration": 0.999957,
          "end_time": "2020-12-15T20:11:58.533406",
          "exception": false,
          "start_time": "2020-12-15T20:11:57.533449",
          "status": "completed"
        },
        "tags": [],
        "id": "49Al6VdcvGgq"
      },
      "outputs": [],
      "source": [
        "# TODO: make GitHub GIST\n",
        "# TODO: add as dataset\n",
        "# TODO: add logging with verbose\n",
        "\n",
        "import numpy as np\n",
        "from sklearn.model_selection import KFold\n",
        "from sklearn.model_selection._split import _BaseKFold, indexable, _num_samples\n",
        "from sklearn.utils.validation import _deprecate_positional_args\n",
        "\n",
        "# modified code for group gaps; source\n",
        "# https://github.com/getgaurav2/scikit-learn/blob/d4a3af5cc9da3a76f0266932644b884c99724c57/sklearn/model_selection/_split.py#L2243\n",
        "class PurgedGroupTimeSeriesSplit(_BaseKFold):\n",
        "    \"\"\"Time Series cross-validator variant with non-overlapping groups.\n",
        "    Allows for a gap in groups to avoid potentially leaking info from\n",
        "    train into test if the model has windowed or lag features.\n",
        "    Provides train/test indices to split time series data samples\n",
        "    that are observed at fixed time intervals according to a\n",
        "    third-party provided group.\n",
        "    In each split, test indices must be higher than before, and thus shuffling\n",
        "    in cross validator is inappropriate.\n",
        "    This cross-validation object is a variation of :class:`KFold`.\n",
        "    In the kth split, it returns first k folds as train set and the\n",
        "    (k+1)th fold as test set.\n",
        "    The same group will not appear in two different folds (the number of\n",
        "    distinct groups has to be at least equal to the number of folds).\n",
        "    Note that unlike standard cross-validation methods, successive\n",
        "    training sets are supersets of those that come before them.\n",
        "    Read more in the :ref:`User Guide <cross_validation>`.\n",
        "    Parameters\n",
        "    ----------\n",
        "    n_splits : int, default=5\n",
        "        Number of splits. Must be at least 2.\n",
        "    max_train_group_size : int, default=Inf\n",
        "        Maximum group size for a single training set.\n",
        "    group_gap : int, default=None\n",
        "        Gap between train and test\n",
        "    max_test_group_size : int, default=Inf\n",
        "        We discard this number of groups from the end of each train split\n",
        "    \"\"\"\n",
        "\n",
        "    @_deprecate_positional_args\n",
        "    def __init__(self,\n",
        "                 n_splits=5,\n",
        "                 *,\n",
        "                 max_train_group_size=np.inf,\n",
        "                 max_test_group_size=np.inf,\n",
        "                 group_gap=None,\n",
        "                 verbose=False\n",
        "                 ):\n",
        "        super().__init__(n_splits, shuffle=False, random_state=None)\n",
        "        self.max_train_group_size = max_train_group_size\n",
        "        self.group_gap = group_gap\n",
        "        self.max_test_group_size = max_test_group_size\n",
        "        self.verbose = verbose\n",
        "\n",
        "    def split(self, X, y=None, groups=None):\n",
        "        \"\"\"Generate indices to split data into training and test set.\n",
        "        Parameters\n",
        "        ----------\n",
        "        X : array-like of shape (n_samples, n_features)\n",
        "            Training data, where n_samples is the number of samples\n",
        "            and n_features is the number of features.\n",
        "        y : array-like of shape (n_samples,)\n",
        "            Always ignored, exists for compatibility.\n",
        "        groups : array-like of shape (n_samples,)\n",
        "            Group labels for the samples used while splitting the dataset into\n",
        "            train/test set.\n",
        "        Yields\n",
        "        ------\n",
        "        train : ndarray\n",
        "            The training set indices for that split.\n",
        "        test : ndarray\n",
        "            The testing set indices for that split.\n",
        "        \"\"\"\n",
        "        if groups is None:\n",
        "            raise ValueError(\n",
        "                \"The 'groups' parameter should not be None\")\n",
        "        X, y, groups = indexable(X, y, groups)\n",
        "        n_samples = _num_samples(X)\n",
        "        n_splits = self.n_splits\n",
        "        group_gap = self.group_gap\n",
        "        max_test_group_size = self.max_test_group_size\n",
        "        max_train_group_size = self.max_train_group_size\n",
        "        n_folds = n_splits + 1\n",
        "        group_dict = {}\n",
        "        u, ind = np.unique(groups, return_index=True)\n",
        "        unique_groups = u[np.argsort(ind)]\n",
        "        n_samples = _num_samples(X)\n",
        "        n_groups = _num_samples(unique_groups)\n",
        "        for idx in np.arange(n_samples):\n",
        "            if (groups[idx] in group_dict):\n",
        "                group_dict[groups[idx]].append(idx)\n",
        "            else:\n",
        "                group_dict[groups[idx]] = [idx]\n",
        "        if n_folds > n_groups:\n",
        "            raise ValueError(\n",
        "                (\"Cannot have number of folds={0} greater than\"\n",
        "                 \" the number of groups={1}\").format(n_folds,\n",
        "                                                     n_groups))\n",
        "\n",
        "        group_test_size = min(n_groups // n_folds, max_test_group_size)\n",
        "        group_test_starts = range(n_groups - n_splits * group_test_size,\n",
        "                                  n_groups, group_test_size)\n",
        "        for group_test_start in group_test_starts:\n",
        "            train_array = []\n",
        "            test_array = []\n",
        "\n",
        "            group_st = max(0, group_test_start - group_gap - max_train_group_size)\n",
        "            for train_group_idx in unique_groups[group_st:(group_test_start - group_gap)]:\n",
        "                train_array_tmp = group_dict[train_group_idx]\n",
        "\n",
        "                train_array = np.sort(np.unique(\n",
        "                                      np.concatenate((train_array,\n",
        "                                                      train_array_tmp)),\n",
        "                                      axis=None), axis=None)\n",
        "\n",
        "            train_end = train_array.size\n",
        "\n",
        "            for test_group_idx in unique_groups[group_test_start:\n",
        "                                                group_test_start +\n",
        "                                                group_test_size]:\n",
        "                test_array_tmp = group_dict[test_group_idx]\n",
        "                test_array = np.sort(np.unique(\n",
        "                                              np.concatenate((test_array,\n",
        "                                                              test_array_tmp)),\n",
        "                                     axis=None), axis=None)\n",
        "\n",
        "            test_array  = test_array[group_gap:]\n",
        "\n",
        "\n",
        "            if self.verbose > 0:\n",
        "                    pass\n",
        "\n",
        "            yield [int(i) for i in train_array], [int(i) for i in test_array]"
      ]
    },
    {
      "cell_type": "markdown",
      "metadata": {
        "papermill": {
          "duration": 0.028832,
          "end_time": "2020-12-15T20:11:58.590905",
          "exception": false,
          "start_time": "2020-12-15T20:11:58.562073",
          "status": "completed"
        },
        "tags": [],
        "id": "neUBqCtQvGgr"
      },
      "source": [
        "To show the general idea, we generate some simple grouped data. Imagine we have a dataset of 2,000 samples which below to 20 groups."
      ]
    },
    {
      "cell_type": "code",
      "execution_count": null,
      "metadata": {
        "execution": {
          "iopub.execute_input": "2020-12-15T20:11:58.654817Z",
          "iopub.status.busy": "2020-12-15T20:11:58.654240Z",
          "iopub.status.idle": "2020-12-15T20:11:58.660798Z",
          "shell.execute_reply": "2020-12-15T20:11:58.660215Z"
        },
        "papermill": {
          "duration": 0.041164,
          "end_time": "2020-12-15T20:11:58.660896",
          "exception": false,
          "start_time": "2020-12-15T20:11:58.619732",
          "status": "completed"
        },
        "tags": [],
        "id": "TBfOx5rrvGgs"
      },
      "outputs": [],
      "source": [
        "n_samples = 2000\n",
        "n_groups = 20\n",
        "assert n_samples % n_groups == 0\n",
        "\n",
        "idx = np.linspace(0, n_samples-1, num=n_samples)\n",
        "X_train = np.random.random(size=(n_samples, 5))\n",
        "y_train = np.random.choice([0, 1], n_samples)\n",
        "groups = np.repeat(np.linspace(0, n_groups-1, num=n_groups), n_samples/n_groups)"
      ]
    },
    {
      "cell_type": "code",
      "execution_count": null,
      "metadata": {
        "_kg_hide-input": true,
        "execution": {
          "iopub.execute_input": "2020-12-15T20:11:58.735129Z",
          "iopub.status.busy": "2020-12-15T20:11:58.734281Z",
          "iopub.status.idle": "2020-12-15T20:11:58.736960Z",
          "shell.execute_reply": "2020-12-15T20:11:58.736505Z"
        },
        "papermill": {
          "duration": 0.047437,
          "end_time": "2020-12-15T20:11:58.737071",
          "exception": false,
          "start_time": "2020-12-15T20:11:58.689634",
          "status": "completed"
        },
        "tags": [],
        "id": "ahjhqCQ3vGgs"
      },
      "outputs": [],
      "source": [
        "from matplotlib.colors import ListedColormap\n",
        "import numpy as np\n",
        "import matplotlib.pyplot as plt\n",
        "\n",
        "# this is code slightly modified from the sklearn docs here:\n",
        "# https://scikit-learn.org/stable/auto_examples/model_selection/plot_cv_indices.html#sphx-glr-auto-examples-model-selection-plot-cv-indices-py\n",
        "def plot_cv_indices(cv, X, y, group, ax, n_splits, lw=10):\n",
        "    \"\"\"Create a sample plot for indices of a cross-validation object.\"\"\"\n",
        "\n",
        "    cmap_cv = plt.cm.coolwarm\n",
        "\n",
        "    jet = plt.cm.get_cmap('jet', 256)\n",
        "    seq = np.linspace(0, 1, 256)\n",
        "    _ = np.random.shuffle(seq)   # inplace\n",
        "    cmap_data = ListedColormap(jet(seq))\n",
        "\n",
        "    # Generate the training/testing visualizations for each CV split\n",
        "    for ii, (tr, tt) in enumerate(cv.split(X=X, y=y, groups=group)):\n",
        "        # Fill in indices with the training/test groups\n",
        "        indices = np.array([np.nan] * len(X))\n",
        "        indices[tt] = 1\n",
        "        indices[tr] = 0\n",
        "\n",
        "        # Visualize the results\n",
        "        ax.scatter(range(len(indices)), [ii + .5] * len(indices),\n",
        "                   c=indices, marker='_', lw=lw, cmap=cmap_cv,\n",
        "                   vmin=-.2, vmax=1.2)\n",
        "\n",
        "    # Plot the data classes and groups at the end\n",
        "    ax.scatter(range(len(X)), [ii + 1.5] * len(X),\n",
        "               c=y, marker='_', lw=lw, cmap=plt.cm.Set3)\n",
        "\n",
        "    ax.scatter(range(len(X)), [ii + 2.5] * len(X),\n",
        "               c=group, marker='_', lw=lw, cmap=cmap_data)\n",
        "\n",
        "    # Formatting\n",
        "    yticklabels = list(range(n_splits)) + ['target', 'day']\n",
        "    ax.set(yticks=np.arange(n_splits+2) + .5, yticklabels=yticklabels,\n",
        "           xlabel='Sample index', ylabel=\"CV iteration\",\n",
        "           ylim=[n_splits+2.2, -.2], xlim=[0, len(y)])\n",
        "    ax.set_title('{}'.format(type(cv).__name__), fontsize=15)\n",
        "    return ax"
      ]
    },
    {
      "cell_type": "markdown",
      "metadata": {
        "papermill": {
          "duration": 0.029038,
          "end_time": "2020-12-15T20:11:58.794683",
          "exception": false,
          "start_time": "2020-12-15T20:11:58.765645",
          "status": "completed"
        },
        "tags": [],
        "id": "l8vRnmwBvGgs"
      },
      "source": [
        "Let's again imagine we want to do\n",
        "- a rolling time series split\n",
        "- where we have a gap of 2 days between train and validation sets\n",
        "- and we make the maximum size of each train set to be 7 days\n",
        "\n",
        "Here we specify the number of splits, the maximum number of groups in each train set, and the maximum number of groups in each valdiation set (sklearn has this convention where they call it the \"test\" set; I preserve that in the variable names, but prefer to call it the validation set)."
      ]
    },
    {
      "cell_type": "code",
      "execution_count": null,
      "metadata": {
        "execution": {
          "iopub.execute_input": "2020-12-15T20:11:58.857104Z",
          "iopub.status.busy": "2020-12-15T20:11:58.856501Z",
          "iopub.status.idle": "2020-12-15T20:11:59.244063Z",
          "shell.execute_reply": "2020-12-15T20:11:59.243361Z"
        },
        "papermill": {
          "duration": 0.421071,
          "end_time": "2020-12-15T20:11:59.244226",
          "exception": false,
          "start_time": "2020-12-15T20:11:58.823155",
          "status": "completed"
        },
        "tags": [],
        "id": "i--9-32TvGgt",
        "outputId": "452d4139-a22f-4486-d663-26832f7f9714"
      },
      "outputs": [
        {
          "data": {
            "image/png": "[encoded data removed]",
            "text/plain": [
              "<Figure size 1008x576 with 1 Axes>"
            ]
          },
          "metadata": {
            "needs_background": "light"
          },
          "output_type": "display_data"
        }
      ],
      "source": [
        "fig, ax = plt.subplots()\n",
        "\n",
        "cv = PurgedGroupTimeSeriesSplit(\n",
        "    n_splits=5,\n",
        "    max_train_group_size=7,\n",
        "    group_gap=2,\n",
        "    max_test_group_size=3\n",
        ")\n",
        "\n",
        "plot_cv_indices(cv, X_train, y_train, groups, ax, 5, lw=20);"
      ]
    },
    {
      "cell_type": "markdown",
      "metadata": {
        "papermill": {
          "duration": 0.030318,
          "end_time": "2020-12-15T20:11:59.305649",
          "exception": false,
          "start_time": "2020-12-15T20:11:59.275331",
          "status": "completed"
        },
        "tags": [],
        "id": "C0wVwu4qvGgt"
      },
      "source": [
        "# With the Real Competition Data\n",
        "\n",
        "In the real competition data, the number of datapoints per day (that is per \"group\") is not constant as it was in the spoofed data. We need to confirm that the time series split respects that there are different counts of samples in the the days.\n",
        "\n",
        "We load the data and reduce memory footprint."
      ]
    },
    {
      "cell_type": "code",
      "execution_count": null,
      "metadata": {
        "_kg_hide-input": true,
        "execution": {
          "iopub.execute_input": "2020-12-15T20:11:59.385375Z",
          "iopub.status.busy": "2020-12-15T20:11:59.384678Z",
          "iopub.status.idle": "2020-12-15T20:11:59.387290Z",
          "shell.execute_reply": "2020-12-15T20:11:59.387865Z"
        },
        "papermill": {
          "duration": 0.051755,
          "end_time": "2020-12-15T20:11:59.387975",
          "exception": false,
          "start_time": "2020-12-15T20:11:59.336220",
          "status": "completed"
        },
        "tags": [],
        "id": "2Yq9B1AuvGgt"
      },
      "outputs": [],
      "source": [
        "# Memory saving function credit to https://www.kaggle.com/gemartin/load-data-reduce-memory-usage\n",
        "def reduce_mem_usage(df):\n",
        "    \"\"\" iterate through all the columns of a dataframe and modify the data type\n",
        "        to reduce memory usage.\n",
        "    \"\"\"\n",
        "    start_mem = df.memory_usage().sum() / 1024**2\n",
        "    print('Memory usage of dataframe is {:.2f} MB'.format(start_mem))\n",
        "\n",
        "    for col in df.columns:\n",
        "        col_type = df[col].dtype.name\n",
        "\n",
        "        if col_type not in ['object', 'category', 'datetime64[ns, UTC]']:\n",
        "            c_min = df[col].min()\n",
        "            c_max = df[col].max()\n",
        "            if str(col_type)[:3] == 'int':\n",
        "                if c_min > np.iinfo(np.int8).min and c_max < np.iinfo(np.int8).max:\n",
        "                    df[col] = df[col].astype(np.int16)\n",
        "                elif c_min > np.iinfo(np.int16).min and c_max < np.iinfo(np.int16).max:\n",
        "                    df[col] = df[col].astype(np.int16)\n",
        "                elif c_min > np.iinfo(np.int32).min and c_max < np.iinfo(np.int32).max:\n",
        "                    df[col] = df[col].astype(np.int32)\n",
        "                elif c_min > np.iinfo(np.int64).min and c_max < np.iinfo(np.int64).max:\n",
        "                    df[col] = df[col].astype(np.int64)\n",
        "            else:\n",
        "                if c_min > np.finfo(np.float16).min and c_max < np.finfo(np.float16).max:\n",
        "                    df[col] = df[col].astype(np.float16)\n",
        "                elif c_min > np.finfo(np.float32).min and c_max < np.finfo(np.float32).max:\n",
        "                    df[col] = df[col].astype(np.float32)\n",
        "                else:\n",
        "                    df[col] = df[col].astype(np.float64)\n",
        "\n",
        "    end_mem = df.memory_usage().sum() / 1024**2\n",
        "    print('Memory usage after optimization is: {:.2f} MB'.format(end_mem))\n",
        "    print('Decreased by {:.1f}%'.format(100 * (start_mem - end_mem) / start_mem))\n",
        "\n",
        "    return df"
      ]
    },
    {
      "cell_type": "code",
      "execution_count": null,
      "metadata": {
        "execution": {
          "iopub.execute_input": "2020-12-15T20:11:59.455882Z",
          "iopub.status.busy": "2020-12-15T20:11:59.455220Z",
          "iopub.status.idle": "2020-12-15T20:13:49.126876Z",
          "shell.execute_reply": "2020-12-15T20:13:49.127724Z"
        },
        "papermill": {
          "duration": 109.709242,
          "end_time": "2020-12-15T20:13:49.127945",
          "exception": false,
          "start_time": "2020-12-15T20:11:59.418703",
          "status": "completed"
        },
        "tags": [],
        "id": "l9bcBut-vGgu",
        "outputId": "a1733b3d-1bd8-4485-ce9f-9b96da36d194"
      },
      "outputs": [
        {
          "name": "stdout",
          "output_type": "stream",
          "text": [
            "Memory usage of dataframe is 2078.45 MB\n",
            "Memory usage after optimization is: 540.40 MB\n",
            "Decreased by 74.0%\n"
          ]
        }
      ],
      "source": [
        "train_data = (\n",
        "    dt.fread('../input/jane-street-market-prediction/train.csv')\n",
        "      .to_pandas()\n",
        "      .query('weight > 0')\n",
        "      .pipe(reduce_mem_usage)\n",
        ")\n",
        "\n",
        "feature_names = train_data.columns[train_data.columns.str.contains('feature')]"
      ]
    },
    {
      "cell_type": "markdown",
      "metadata": {
        "papermill": {
          "duration": 0.030934,
          "end_time": "2020-12-15T20:13:49.190810",
          "exception": false,
          "start_time": "2020-12-15T20:13:49.159876",
          "status": "completed"
        },
        "tags": [],
        "id": "vUGB4KBsvGgu"
      },
      "source": [
        "Let's imagine that you want to fit on 15 days of data, leave a gap of 5 days between test and validation, and then validate on 5 days of data."
      ]
    },
    {
      "cell_type": "code",
      "execution_count": null,
      "metadata": {
        "execution": {
          "iopub.execute_input": "2020-12-15T20:13:49.260791Z",
          "iopub.status.busy": "2020-12-15T20:13:49.259938Z",
          "iopub.status.idle": "2020-12-15T20:14:07.808506Z",
          "shell.execute_reply": "2020-12-15T20:14:07.807991Z"
        },
        "papermill": {
          "duration": 18.587019,
          "end_time": "2020-12-15T20:14:07.808614",
          "exception": false,
          "start_time": "2020-12-15T20:13:49.221595",
          "status": "completed"
        },
        "tags": [],
        "id": "x3Vh4GhJvGgu",
        "outputId": "9825bad4-eaa1-4346-c6d6-a2b5d035a514"
      },
      "outputs": [
        {
          "data": {
            "image/png": "[encoded data removed]",
            "text/plain": [
              "<Figure size 1008x576 with 1 Axes>"
            ]
          },
          "metadata": {
            "needs_background": "light"
          },
          "output_type": "display_data"
        }
      ],
      "source": [
        "fig, ax = plt.subplots()\n",
        "\n",
        "cv = PurgedGroupTimeSeriesSplit(\n",
        "    n_splits=5,\n",
        "    max_train_group_size=15,\n",
        "    group_gap=5,\n",
        "    max_test_group_size=5\n",
        ")\n",
        "\n",
        "plot_cv_indices(\n",
        "    cv,\n",
        "    train_data.query('date < 50')[\n",
        "        train_data.columns[train_data.columns.str.contains('feature')]\n",
        "    ].values,\n",
        "    (train_data.query('date < 50')['resp'] > 0).astype(int).values,\n",
        "    train_data.query('date < 50')['date'].values,\n",
        "    ax,\n",
        "    5,\n",
        "    lw=20\n",
        ");"
      ]
    },
    {
      "cell_type": "markdown",
      "metadata": {
        "papermill": {
          "duration": 0.03249,
          "end_time": "2020-12-15T20:14:07.874237",
          "exception": false,
          "start_time": "2020-12-15T20:14:07.841747",
          "status": "completed"
        },
        "tags": [],
        "id": "GcrTwy82vGgv"
      },
      "source": [
        "![Alt Text](https://media.giphy.com/media/5bGYUuT3VEVLa/giphy.gif)\n",
        "\n",
        "Boom... there you go. Notice that the sizes of the train, gap, and valid sets respect the different number of samples per day. Now you can split the data on **number of days** in the validation set, **number of days** gap between, and **number of days** in the train set. You can see in the \"group\" bars that the days are different lengths."
      ]
    },
    {
      "cell_type": "markdown",
      "metadata": {
        "papermill": {
          "duration": 0.032186,
          "end_time": "2020-12-15T20:14:07.938776",
          "exception": false,
          "start_time": "2020-12-15T20:14:07.906590",
          "status": "completed"
        },
        "tags": [],
        "id": "5cGIjiXjvGgv"
      },
      "source": [
        "# A Worked Example of Hyperparameter Tuning with CV"
      ]
    },
    {
      "cell_type": "markdown",
      "metadata": {
        "papermill": {
          "duration": 0.032598,
          "end_time": "2020-12-15T20:14:08.003901",
          "exception": false,
          "start_time": "2020-12-15T20:14:07.971303",
          "status": "completed"
        },
        "tags": [],
        "id": "vbr3ibIGvGgv"
      },
      "source": [
        "Now that we can split the data in a very sensible way, we can proceed to build a model. This section builds a very simple (maybe the most simple) pipeline:\n",
        "- we first mean impute missing values. This dataset has many NaN\n",
        "- we then scale the data as we are going to use a linear model which requires this\n",
        "- and lastly, we fit a LogisticRegression\n",
        "\n",
        "The Logistic Regression has only one hyperparameter: the \"C\" value which specifies the inverse of the regularization strength. We use the sklearn `Pipeline` and `GridSearchCV` with our `PurgedGroupTimeSeriesSplit` class. Note one benefit of the pipeline approach is that when we impute the means, we are **not** looking ahead into the validation set."
      ]
    },
    {
      "cell_type": "code",
      "execution_count": null,
      "metadata": {
        "execution": {
          "iopub.execute_input": "2020-12-15T20:14:08.074916Z",
          "iopub.status.busy": "2020-12-15T20:14:08.074203Z",
          "iopub.status.idle": "2020-12-15T20:14:08.239811Z",
          "shell.execute_reply": "2020-12-15T20:14:08.239276Z"
        },
        "papermill": {
          "duration": 0.203411,
          "end_time": "2020-12-15T20:14:08.239909",
          "exception": false,
          "start_time": "2020-12-15T20:14:08.036498",
          "status": "completed"
        },
        "tags": [],
        "id": "NUtGC0TNvGgv"
      },
      "outputs": [],
      "source": [
        "from sklearn.linear_model import LogisticRegression, Lasso\n",
        "from sklearn.pipeline import Pipeline\n",
        "from sklearn.model_selection import GridSearchCV\n",
        "from sklearn.metrics import roc_auc_score\n",
        "\n",
        "from sklearn.impute import SimpleImputer\n",
        "from sklearn.preprocessing import StandardScaler\n",
        "\n",
        "from sklearn import set_config\n",
        "set_config(display='diagram')"
      ]
    },
    {
      "cell_type": "markdown",
      "metadata": {
        "papermill": {
          "duration": 0.032705,
          "end_time": "2020-12-15T20:14:08.305367",
          "exception": false,
          "start_time": "2020-12-15T20:14:08.272662",
          "status": "completed"
        },
        "tags": [],
        "id": "9yPYFDonvGgv"
      },
      "source": [
        "## Set up the Pipeline"
      ]
    },
    {
      "cell_type": "code",
      "execution_count": null,
      "metadata": {
        "execution": {
          "iopub.execute_input": "2020-12-15T20:14:08.379349Z",
          "iopub.status.busy": "2020-12-15T20:14:08.378760Z",
          "iopub.status.idle": "2020-12-15T20:14:08.397994Z",
          "shell.execute_reply": "2020-12-15T20:14:08.397388Z"
        },
        "papermill": {
          "duration": 0.060077,
          "end_time": "2020-12-15T20:14:08.398103",
          "exception": false,
          "start_time": "2020-12-15T20:14:08.338026",
          "status": "completed"
        },
        "tags": [],
        "id": "DUZYwECNvGgv",
        "outputId": "60525fa2-40e7-4c7d-dc61-ad341543e663"
      },
      "outputs": [
        {
          "data": {
            "text/html": [
              "<style>div.sk-top-container {color: black;background-color: white;}div.sk-toggleable {background-color: white;}label.sk-toggleable__label {cursor: pointer;display: block;width: 100%;margin-bottom: 0;padding: 0.2em 0.3em;box-sizing: border-box;text-align: center;}div.sk-toggleable__content {max-height: 0;max-width: 0;overflow: hidden;text-align: left;background-color: #f0f8ff;}div.sk-toggleable__content pre {margin: 0.2em;color: black;border-radius: 0.25em;background-color: #f0f8ff;}input.sk-toggleable__control:checked~div.sk-toggleable__content {max-height: 200px;max-width: 100%;overflow: auto;}div.sk-estimator input.sk-toggleable__control:checked~label.sk-toggleable__label {background-color: #d4ebff;}div.sk-label input.sk-toggleable__control:checked~label.sk-toggleable__label {background-color: #d4ebff;}input.sk-hidden--visually {border: 0;clip: rect(1px 1px 1px 1px);clip: rect(1px, 1px, 1px, 1px);height: 1px;margin: -1px;overflow: hidden;padding: 0;position: absolute;width: 1px;}div.sk-estimator {font-family: monospace;background-color: #f0f8ff;margin: 0.25em 0.25em;border: 1px dotted black;border-radius: 0.25em;box-sizing: border-box;}div.sk-estimator:hover {background-color: #d4ebff;}div.sk-parallel-item::after {content: \"\";width: 100%;border-bottom: 1px solid gray;flex-grow: 1;}div.sk-label:hover label.sk-toggleable__label {background-color: #d4ebff;}div.sk-serial::before {content: \"\";position: absolute;border-left: 1px solid gray;box-sizing: border-box;top: 2em;bottom: 0;left: 50%;}div.sk-serial {display: flex;flex-direction: column;align-items: center;background-color: white;}div.sk-item {z-index: 1;}div.sk-parallel {display: flex;align-items: stretch;justify-content: center;background-color: white;}div.sk-parallel-item {display: flex;flex-direction: column;position: relative;background-color: white;}div.sk-parallel-item:first-child::after {align-self: flex-end;width: 50%;}div.sk-parallel-item:last-child::after {align-self: flex-start;width: 50%;}div.sk-parallel-item:only-child::after {width: 0;}div.sk-dashed-wrapped {border: 1px dashed gray;margin: 0.2em;box-sizing: border-box;padding-bottom: 0.1em;background-color: white;position: relative;}div.sk-label label {font-family: monospace;font-weight: bold;background-color: white;display: inline-block;line-height: 1.2em;}div.sk-label-container {position: relative;z-index: 2;text-align: center;}div.sk-container {display: inline-block;position: relative;}</style><div class=\"sk-top-container\"><div class=\"sk-container\"><div class=\"sk-item sk-dashed-wrapped\"><div class=\"sk-label-container\"><div class=\"sk-label sk-toggleable\"><input class=\"sk-toggleable__control sk-hidden--visually\" id=\"6eff2112-4278-4ece-8b85-94ac9c070752\" type=\"checkbox\" ><label class=\"sk-toggleable__label\" for=\"6eff2112-4278-4ece-8b85-94ac9c070752\">Pipeline</label><div class=\"sk-toggleable__content\"><pre>Pipeline(steps=[('imputer', SimpleImputer()), ('scaler', StandardScaler()),\n",
              "                ('logistic',\n",
              "                 LogisticRegression(max_iter=1000, penalty='l1',\n",
              "                                    random_state=42, solver='liblinear',\n",
              "                                    tol=0.1, verbose=10))])</pre></div></div></div><div class=\"sk-serial\"><div class=\"sk-item\"><div class=\"sk-estimator sk-toggleable\"><input class=\"sk-toggleable__control sk-hidden--visually\" id=\"4ab9784b-07cf-4997-b20c-6028cbe41bda\" type=\"checkbox\" ><label class=\"sk-toggleable__label\" for=\"4ab9784b-07cf-4997-b20c-6028cbe41bda\">SimpleImputer</label><div class=\"sk-toggleable__content\"><pre>SimpleImputer()</pre></div></div></div><div class=\"sk-item\"><div class=\"sk-estimator sk-toggleable\"><input class=\"sk-toggleable__control sk-hidden--visually\" id=\"fa54c7cb-aa54-42a7-a851-64040aca016a\" type=\"checkbox\" ><label class=\"sk-toggleable__label\" for=\"fa54c7cb-aa54-42a7-a851-64040aca016a\">StandardScaler</label><div class=\"sk-toggleable__content\"><pre>StandardScaler()</pre></div></div></div><div class=\"sk-item\"><div class=\"sk-estimator sk-toggleable\"><input class=\"sk-toggleable__control sk-hidden--visually\" id=\"cbcb0f48-a366-4c94-bd79-c010976b7cca\" type=\"checkbox\" ><label class=\"sk-toggleable__label\" for=\"cbcb0f48-a366-4c94-bd79-c010976b7cca\">LogisticRegression</label><div class=\"sk-toggleable__content\"><pre>LogisticRegression(max_iter=1000, penalty='l1', random_state=42,\n",
              "                   solver='liblinear', tol=0.1, verbose=10)</pre></div></div></div></div></div></div></div>"
            ],
            "text/plain": [
              "Pipeline(steps=[('imputer', SimpleImputer()), ('scaler', StandardScaler()),\n",
              "                ('logistic',\n",
              "                 LogisticRegression(max_iter=1000, penalty='l1',\n",
              "                                    random_state=42, solver='liblinear',\n",
              "                                    tol=0.1, verbose=10))])"
            ]
          },
          "execution_count": 10,
          "metadata": {},
          "output_type": "execute_result"
        }
      ],
      "source": [
        "# TODO: feature_0 should not be scaled\n",
        "\n",
        "imp_mean = SimpleImputer(missing_values=np.nan, strategy='mean')\n",
        "scaler = StandardScaler()\n",
        "\n",
        "logistic = LogisticRegression(\n",
        "    max_iter=1000,\n",
        "    tol=0.1,\n",
        "    verbose=10,\n",
        "    penalty='l1',\n",
        "    solver='liblinear',\n",
        "    random_state=42\n",
        ")\n",
        "\n",
        "pipe = Pipeline(steps=[\n",
        "    ('imputer', imp_mean),\n",
        "    ('scaler', scaler),\n",
        "    ('logistic', logistic)\n",
        "])\n",
        "\n",
        "pipe"
      ]
    },
    {
      "cell_type": "markdown",
      "metadata": {
        "papermill": {
          "duration": 0.032826,
          "end_time": "2020-12-15T20:14:08.464885",
          "exception": false,
          "start_time": "2020-12-15T20:14:08.432059",
          "status": "completed"
        },
        "tags": [],
        "id": "ewaYmUU9vGgw"
      },
      "source": [
        "This ☝ is a nice HTML display of the pipeline. You can click on the objects for more info. In this case, it's a simple pipeline, but this is a really nice feature to explore complex pipelines."
      ]
    },
    {
      "cell_type": "code",
      "execution_count": null,
      "metadata": {
        "execution": {
          "iopub.execute_input": "2020-12-15T20:14:08.535203Z",
          "iopub.status.busy": "2020-12-15T20:14:08.534380Z",
          "iopub.status.idle": "2020-12-15T20:14:08.536623Z",
          "shell.execute_reply": "2020-12-15T20:14:08.537145Z"
        },
        "papermill": {
          "duration": 0.039179,
          "end_time": "2020-12-15T20:14:08.537250",
          "exception": false,
          "start_time": "2020-12-15T20:14:08.498071",
          "status": "completed"
        },
        "tags": [],
        "id": "QflWv1W8vGgw"
      },
      "outputs": [],
      "source": [
        "# pipe.get_params()"
      ]
    },
    {
      "cell_type": "code",
      "execution_count": null,
      "metadata": {
        "execution": {
          "iopub.execute_input": "2020-12-15T20:14:08.644923Z",
          "iopub.status.busy": "2020-12-15T20:14:08.643011Z",
          "iopub.status.idle": "2020-12-15T20:14:08.672824Z",
          "shell.execute_reply": "2020-12-15T20:14:08.674080Z"
        },
        "papermill": {
          "duration": 0.089437,
          "end_time": "2020-12-15T20:14:08.674261",
          "exception": false,
          "start_time": "2020-12-15T20:14:08.584824",
          "status": "completed"
        },
        "tags": [],
        "id": "56rkadhevGgw",
        "outputId": "e7d58440-d37f-4085-91e6-93ab364f7641"
      },
      "outputs": [
        {
          "name": "stdout",
          "output_type": "stream",
          "text": [
            "<class 'pandas.core.frame.DataFrame'>\n",
            "Int64Index: 1981287 entries, 1 to 2390489\n",
            "Columns: 138 entries, date to ts_id\n",
            "dtypes: float16(135), int16(2), int32(1)\n",
            "memory usage: 540.4 MB\n"
          ]
        }
      ],
      "source": [
        "train_data.info()"
      ]
    },
    {
      "cell_type": "markdown",
      "metadata": {
        "papermill": {
          "duration": 0.047208,
          "end_time": "2020-12-15T20:14:08.770318",
          "exception": false,
          "start_time": "2020-12-15T20:14:08.723110",
          "status": "completed"
        },
        "tags": [],
        "id": "T4vGemz8vGgx"
      },
      "source": [
        "## Run Cross Validation\n",
        "\n",
        "We will sequentially try a range of regularization hyperparameters and look at the CV for each. The training data is 500 days; I make 4 splits looking at 125 days in train, skipping 40 days (two months), and validating on the next 40 days."
      ]
    },
    {
      "cell_type": "code",
      "execution_count": null,
      "metadata": {
        "execution": {
          "iopub.execute_input": "2020-12-15T20:14:08.876271Z",
          "iopub.status.busy": "2020-12-15T20:14:08.874338Z",
          "iopub.status.idle": "2020-12-15T20:14:08.878767Z",
          "shell.execute_reply": "2020-12-15T20:14:08.880122Z"
        },
        "papermill": {
          "duration": 0.06228,
          "end_time": "2020-12-15T20:14:08.880277",
          "exception": false,
          "start_time": "2020-12-15T20:14:08.817997",
          "status": "completed"
        },
        "tags": [],
        "id": "TlHQP10LvGgx"
      },
      "outputs": [],
      "source": [
        "param_grid = {\n",
        " 'logistic__C': np.logspace(-3, 1.5, 7),  # lower C is more regularization\n",
        "}\n",
        "\n",
        "scoring = {'AUC': 'roc_auc'}\n",
        "\n",
        "cv = PurgedGroupTimeSeriesSplit(\n",
        "    n_splits=3,\n",
        "    max_train_group_size=150,\n",
        "    group_gap=20,\n",
        "    max_test_group_size=60\n",
        ")\n",
        "\n",
        "search = GridSearchCV(\n",
        "    pipe,\n",
        "    param_grid,\n",
        "    n_jobs=3,\n",
        "    cv=cv,\n",
        "    verbose=10,\n",
        "    scoring=scoring,\n",
        "    refit=False, # 'AUC',   # <-- do we want to refit on the entire dataset?\n",
        "    return_train_score=True\n",
        ")"
      ]
    },
    {
      "cell_type": "code",
      "execution_count": null,
      "metadata": {
        "execution": {
          "iopub.execute_input": "2020-12-15T20:14:09.083026Z",
          "iopub.status.busy": "2020-12-15T20:14:09.082153Z",
          "iopub.status.idle": "2020-12-15T20:14:09.089576Z",
          "shell.execute_reply": "2020-12-15T20:14:09.090635Z"
        },
        "papermill": {
          "duration": 0.157416,
          "end_time": "2020-12-15T20:14:09.090809",
          "exception": false,
          "start_time": "2020-12-15T20:14:08.933393",
          "status": "completed"
        },
        "tags": [],
        "id": "1NNa_9CCvGgx",
        "outputId": "5d804e2a-067c-4927-f4b4-fee4ecc54acb"
      },
      "outputs": [
        {
          "data": {
            "text/plain": [
              "2938"
            ]
          },
          "execution_count": 14,
          "metadata": {},
          "output_type": "execute_result"
        }
      ],
      "source": [
        "gc.collect()"
      ]
    },
    {
      "cell_type": "code",
      "execution_count": null,
      "metadata": {
        "execution": {
          "iopub.execute_input": "2020-12-15T20:14:09.202835Z",
          "iopub.status.busy": "2020-12-15T20:14:09.202052Z",
          "iopub.status.idle": "2020-12-15T20:20:27.220921Z",
          "shell.execute_reply": "2020-12-15T20:20:27.219540Z"
        },
        "papermill": {
          "duration": 378.078969,
          "end_time": "2020-12-15T20:20:27.221192",
          "exception": false,
          "start_time": "2020-12-15T20:14:09.142223",
          "status": "completed"
        },
        "tags": [],
        "id": "5EolKLlGvGgx",
        "outputId": "1e1cc48b-96c6-4ac9-a36e-e65d1299bf8b"
      },
      "outputs": [
        {
          "name": "stdout",
          "output_type": "stream",
          "text": [
            "Fitting 3 folds for each of 7 candidates, totalling 21 fits\n"
          ]
        },
        {
          "name": "stderr",
          "output_type": "stream",
          "text": [
            "[Parallel(n_jobs=3)]: Using backend LokyBackend with 3 concurrent workers.\n",
            "[Parallel(n_jobs=3)]: Done   2 tasks      | elapsed:   45.1s\n",
            "[Parallel(n_jobs=3)]: Done   7 tasks      | elapsed:  1.9min\n",
            "[Parallel(n_jobs=3)]: Done  12 tasks      | elapsed:  3.4min\n",
            "[Parallel(n_jobs=3)]: Done  19 out of  21 | elapsed:  5.6min remaining:   35.3s\n"
          ]
        },
        {
          "name": "stdout",
          "output_type": "stream",
          "text": [
            "CPU times: user 1min 17s, sys: 1.01 s, total: 1min 18s\n",
            "Wall time: 6min 17s\n"
          ]
        },
        {
          "name": "stderr",
          "output_type": "stream",
          "text": [
            "[Parallel(n_jobs=3)]: Done  21 out of  21 | elapsed:  6.1min finished\n"
          ]
        }
      ],
      "source": [
        "%%time\n",
        "\n",
        "FIT = True\n",
        "\n",
        "if FIT:\n",
        "    search.fit(\n",
        "        train_data[\n",
        "            train_data.columns[train_data.columns.str.contains('feature')]\n",
        "        ].values,\n",
        "        (train_data['resp'] > 0).astype(int).values,\n",
        "        groups=train_data['date'].values,\n",
        "    )"
      ]
    },
    {
      "cell_type": "markdown",
      "metadata": {
        "papermill": {
          "duration": 0.057995,
          "end_time": "2020-12-15T20:20:27.340469",
          "exception": false,
          "start_time": "2020-12-15T20:20:27.282474",
          "status": "completed"
        },
        "tags": [],
        "id": "W5hL7ZljvGgy"
      },
      "source": [
        "## Visualize the CV Results"
      ]
    },
    {
      "cell_type": "code",
      "execution_count": null,
      "metadata": {
        "_kg_hide-input": true,
        "execution": {
          "iopub.execute_input": "2020-12-15T20:20:27.480430Z",
          "iopub.status.busy": "2020-12-15T20:20:27.479590Z",
          "iopub.status.idle": "2020-12-15T20:20:28.382238Z",
          "shell.execute_reply": "2020-12-15T20:20:28.381417Z"
        },
        "papermill": {
          "duration": 0.970439,
          "end_time": "2020-12-15T20:20:28.382349",
          "exception": false,
          "start_time": "2020-12-15T20:20:27.411910",
          "status": "completed"
        },
        "tags": [],
        "id": "n2se-l0gvGgy",
        "outputId": "e9cfd46a-b6d0-408a-e0f6-eb2f249535dd"
      },
      "outputs": [
        {
          "data": {
            "image/png": "[encoded data removed]",
            "text/plain": [
              "<Figure size 864x432 with 1 Axes>"
            ]
          },
          "metadata": {
            "needs_background": "light"
          },
          "output_type": "display_data"
        }
      ],
      "source": [
        "results = search.cv_results_\n",
        "\n",
        "param = 'param_' + list(param_grid.keys())[0]\n",
        "\n",
        "plt.figure(figsize=(12, 6))\n",
        "plt.title(\"GridSearchCV\", fontsize=16)\n",
        "plt.xlabel(list(param_grid.keys())[0])\n",
        "plt.ylabel(\"Score\")\n",
        "\n",
        "ax = plt.gca()\n",
        "ax.set_xlim(0.00075, 40)\n",
        "ax.set_ylim(0.45, 0.55)\n",
        "ax.set_xscale('log')\n",
        "\n",
        "# Get the regular numpy array from the MaskedArray\n",
        "X_axis = np.array(results[param].data, dtype=float)\n",
        "\n",
        "for scorer, color in zip(sorted(scoring), ['g', 'k']):\n",
        "    for sample, style in (('train', '--'), ('test', '-')):\n",
        "        sample_score_mean = results['mean_%s_%s' % (sample, scorer)]\n",
        "        sample_score_std = results['std_%s_%s' % (sample, scorer)]\n",
        "        ax.fill_between(X_axis, sample_score_mean - sample_score_std,\n",
        "                        sample_score_mean + sample_score_std,\n",
        "                        alpha=0.1 if sample == 'test' else 0, color=color)\n",
        "        ax.plot(X_axis, sample_score_mean, style, color=color,\n",
        "                alpha=1 if sample == 'test' else 0.7,\n",
        "                label=\"%s (%s)\" % (scorer, sample))\n",
        "\n",
        "    best_index = np.nonzero(results['rank_test_%s' % scorer] == 1)[0][0]\n",
        "    best_score = results['mean_test_%s' % scorer][best_index]\n",
        "\n",
        "    # Plot a dotted vertical line at the best score for that scorer marked by x\n",
        "    ax.plot([X_axis[best_index], ] * 2, [0, best_score],\n",
        "            linestyle='-.', color=color, marker='x', markeredgewidth=3, ms=8)\n",
        "\n",
        "    # Annotate the best score for that scorer\n",
        "    ax.annotate(\"%0.4f\" % best_score,\n",
        "                (X_axis[best_index], best_score + 0.005))\n",
        "\n",
        "plt.legend(loc=\"best\")\n",
        "plt.grid(False)\n",
        "plt.show()"
      ]
    },
    {
      "cell_type": "markdown",
      "metadata": {
        "papermill": {
          "duration": 0.04386,
          "end_time": "2020-12-15T20:20:28.466424",
          "exception": false,
          "start_time": "2020-12-15T20:20:28.422564",
          "status": "completed"
        },
        "tags": [],
        "id": "iSvL5FqmvGgy"
      },
      "source": [
        "It seems that the model is not that sensitive to the regularization parameter. I will err on the side of caution and choose a lower one."
      ]
    },
    {
      "cell_type": "code",
      "execution_count": null,
      "metadata": {
        "execution": {
          "iopub.execute_input": "2020-12-15T20:20:28.549478Z",
          "iopub.status.busy": "2020-12-15T20:20:28.548712Z",
          "iopub.status.idle": "2020-12-15T20:20:28.552589Z",
          "shell.execute_reply": "2020-12-15T20:20:28.558852Z"
        },
        "papermill": {
          "duration": 0.053404,
          "end_time": "2020-12-15T20:20:28.559023",
          "exception": false,
          "start_time": "2020-12-15T20:20:28.505619",
          "status": "completed"
        },
        "tags": [],
        "id": "oZ_TZuPcvGgy",
        "outputId": "5ea04bec-f02f-4d98-c5cd-b102d36f3c0d"
      },
      "outputs": [
        {
          "name": "stdout",
          "output_type": "stream",
          "text": [
            "The best setting for C is 0.1778279410038923\n"
          ]
        }
      ],
      "source": [
        "results_idx = np.argmax(results['mean_test_AUC'])\n",
        "best_param = results[param][results_idx]\n",
        "\n",
        "print(f'The best setting for C is {best_param}')"
      ]
    },
    {
      "cell_type": "markdown",
      "metadata": {
        "papermill": {
          "duration": 0.039101,
          "end_time": "2020-12-15T20:20:28.640956",
          "exception": false,
          "start_time": "2020-12-15T20:20:28.601855",
          "status": "completed"
        },
        "tags": [],
        "id": "3V8bNpxnvGgz"
      },
      "source": [
        "## Fit the Best Estimator on the Entire Data"
      ]
    },
    {
      "cell_type": "code",
      "execution_count": null,
      "metadata": {
        "execution": {
          "iopub.execute_input": "2020-12-15T20:20:28.724962Z",
          "iopub.status.busy": "2020-12-15T20:20:28.724375Z",
          "iopub.status.idle": "2020-12-15T20:20:28.728671Z",
          "shell.execute_reply": "2020-12-15T20:20:28.728072Z"
        },
        "papermill": {
          "duration": 0.048796,
          "end_time": "2020-12-15T20:20:28.728770",
          "exception": false,
          "start_time": "2020-12-15T20:20:28.679974",
          "status": "completed"
        },
        "tags": [],
        "id": "rmDwx2j6vGgz"
      },
      "outputs": [],
      "source": [
        "logistic = LogisticRegression(\n",
        "    max_iter=1000,\n",
        "    C=0.1,\n",
        "    tol=0.1,\n",
        "    verbose=10,\n",
        "    penalty='l1',   # <-- L1 norm to enforce sparsity of coefficients\n",
        "    solver='liblinear'\n",
        ")\n",
        "\n",
        "pipe_lr = Pipeline(steps=[\n",
        "    ('imputer', imp_mean),\n",
        "    ('scaler', scaler),\n",
        "    ('logistic', logistic)\n",
        "])"
      ]
    },
    {
      "cell_type": "code",
      "execution_count": null,
      "metadata": {
        "execution": {
          "iopub.execute_input": "2020-12-15T20:20:28.904965Z",
          "iopub.status.busy": "2020-12-15T20:20:28.903307Z",
          "iopub.status.idle": "2020-12-15T20:20:28.907890Z",
          "shell.execute_reply": "2020-12-15T20:20:28.908377Z"
        },
        "papermill": {
          "duration": 0.140846,
          "end_time": "2020-12-15T20:20:28.908513",
          "exception": false,
          "start_time": "2020-12-15T20:20:28.767667",
          "status": "completed"
        },
        "tags": [],
        "id": "aHRhROUjvGgz",
        "outputId": "71d9a318-4a7a-4e8d-a6b0-69c83f91d15c"
      },
      "outputs": [
        {
          "data": {
            "text/plain": [
              "1815"
            ]
          },
          "execution_count": 19,
          "metadata": {},
          "output_type": "execute_result"
        }
      ],
      "source": [
        "gc.collect()"
      ]
    },
    {
      "cell_type": "code",
      "execution_count": null,
      "metadata": {
        "execution": {
          "iopub.execute_input": "2020-12-15T20:20:28.994562Z",
          "iopub.status.busy": "2020-12-15T20:20:28.993559Z",
          "iopub.status.idle": "2020-12-15T20:20:56.333589Z",
          "shell.execute_reply": "2020-12-15T20:20:56.334663Z"
        },
        "papermill": {
          "duration": 27.386165,
          "end_time": "2020-12-15T20:20:56.334844",
          "exception": false,
          "start_time": "2020-12-15T20:20:28.948679",
          "status": "completed"
        },
        "tags": [],
        "id": "3rRsDGfJvGgz",
        "outputId": "3b341a08-b68a-4a58-c4ab-82cec94874e9"
      },
      "outputs": [
        {
          "name": "stdout",
          "output_type": "stream",
          "text": [
            "[LibLinear]CPU times: user 22.5 s, sys: 4.64 s, total: 27.2 s\n",
            "Wall time: 27.3 s\n"
          ]
        },
        {
          "data": {
            "text/plain": [
              "39"
            ]
          },
          "execution_count": 20,
          "metadata": {},
          "output_type": "execute_result"
        }
      ],
      "source": [
        "%%time\n",
        "\n",
        "pipe_lr.fit(\n",
        "    train_data.query('date > 100')[\n",
        "        train_data.columns[train_data.columns.str.contains('feature')]\n",
        "    ].values,\n",
        "    (train_data.query('date > 100')['resp'] > 0).astype(int).values\n",
        ")\n",
        "\n",
        "gc.collect()"
      ]
    },
    {
      "cell_type": "markdown",
      "metadata": {
        "papermill": {
          "duration": 0.048026,
          "end_time": "2020-12-15T20:20:56.444902",
          "exception": false,
          "start_time": "2020-12-15T20:20:56.396876",
          "status": "completed"
        },
        "tags": [],
        "id": "aM0YiIkWvGg0"
      },
      "source": [
        "# Optuna Hyperparam Search for XGBoost\n",
        "\n",
        "Unlike Logistic Regression, XGBoost has many parameters. We will use the same CV scheme (`PurgedGroupTimeSeriesSplit`) so that the results are comparable. To search for the best parameters, however, we will use a Baysian optimzer, [**Optuna**](https://github.com/optuna/optuna)."
      ]
    },
    {
      "cell_type": "code",
      "execution_count": null,
      "metadata": {
        "execution": {
          "iopub.execute_input": "2020-12-15T20:20:56.535678Z",
          "iopub.status.busy": "2020-12-15T20:20:56.535063Z",
          "iopub.status.idle": "2020-12-15T20:21:03.123930Z",
          "shell.execute_reply": "2020-12-15T20:21:03.124678Z"
        },
        "papermill": {
          "duration": 6.635763,
          "end_time": "2020-12-15T20:21:03.124840",
          "exception": false,
          "start_time": "2020-12-15T20:20:56.489077",
          "status": "completed"
        },
        "tags": [],
        "id": "0r76LLcdvGg0"
      },
      "outputs": [],
      "source": [
        "import xgboost as xgb\n",
        "import optuna\n",
        "\n",
        "y_labels = (train_data['resp'] > 0).astype(int).values\n",
        "X_train = train_data[\n",
        "    train_data.columns[train_data.columns.str.contains('feature')]\n",
        "].values\n",
        "groups = train_data['date'].values"
      ]
    },
    {
      "cell_type": "markdown",
      "metadata": {
        "papermill": {
          "duration": 0.041432,
          "end_time": "2020-12-15T20:21:03.207961",
          "exception": false,
          "start_time": "2020-12-15T20:21:03.166529",
          "status": "completed"
        },
        "tags": [],
        "id": "YHGOKQ9_vGg0"
      },
      "source": [
        "Setting up the Optuna objective function is very straightforward. The new code below is `trial.suggest_...`. This is Optuna code to generate a parameter setting."
      ]
    },
    {
      "cell_type": "code",
      "execution_count": null,
      "metadata": {
        "execution": {
          "iopub.execute_input": "2020-12-15T20:21:03.311652Z",
          "iopub.status.busy": "2020-12-15T20:21:03.309831Z",
          "iopub.status.idle": "2020-12-15T20:21:03.312412Z",
          "shell.execute_reply": "2020-12-15T20:21:03.312889Z"
        },
        "papermill": {
          "duration": 0.064314,
          "end_time": "2020-12-15T20:21:03.313003",
          "exception": false,
          "start_time": "2020-12-15T20:21:03.248689",
          "status": "completed"
        },
        "tags": [],
        "id": "1OdQLlRCvGg0"
      },
      "outputs": [],
      "source": [
        "cv = PurgedGroupTimeSeriesSplit(\n",
        "    n_splits=3,\n",
        "    max_train_group_size=150,\n",
        "    group_gap=20,\n",
        "    max_test_group_size=60\n",
        ")\n",
        "\n",
        "def objective(trial, cv=cv, cv_fold_func=np.average):\n",
        "\n",
        "    # Optuna suggest params\n",
        "    params = {\n",
        "        'n_estimators': trial.suggest_int('n_estimators', 350, 1000),\n",
        "        'max_depth': trial.suggest_int('max_depth', 3, 10),\n",
        "        'learning_rate': trial.suggest_uniform('learning_rate', 0.01, 0.10),\n",
        "        'subsample': trial.suggest_uniform('subsample', 0.50, 0.90),\n",
        "        'colsample_bytree': trial.suggest_uniform('colsample_bytree', 0.50, 0.90),\n",
        "        'gamma': trial.suggest_int('gamma', 0, 20),\n",
        "        'missing': -999,\n",
        "        'tree_method': 'gpu_hist'\n",
        "    }\n",
        "\n",
        "    # setup the pieline\n",
        "    imp_mean = SimpleImputer(missing_values=np.nan, strategy='mean')\n",
        "    scaler = StandardScaler()\n",
        "    clf = xgb.XGBClassifier(**params)\n",
        "\n",
        "    pipe = Pipeline(steps=[\n",
        "        ('imputer', imp_mean),\n",
        "        ('scaler', scaler),\n",
        "        ('xgb', clf)\n",
        "    ])\n",
        "\n",
        "\n",
        "    # fit for all folds and return composite AUC score\n",
        "    aucs = []\n",
        "    for i, (train_idx, valid_idx) in enumerate(cv.split(\n",
        "        X_train,\n",
        "        y_labels,\n",
        "        groups=groups)):\n",
        "\n",
        "        train_data = X_train[train_idx, :], y_labels[train_idx]\n",
        "        valid_data = X_train[valid_idx, :], y_labels[valid_idx]\n",
        "\n",
        "        _ = pipe.fit(X_train[train_idx, :], y_labels[train_idx])\n",
        "        preds = pipe.predict(X_train[valid_idx, :])\n",
        "        auc = roc_auc_score(y_labels[valid_idx], preds)\n",
        "        aucs.append(auc)\n",
        "\n",
        "    print(f'Trial done: AUC values on folds: {aucs}')\n",
        "    return cv_fold_func(aucs)\n"
      ]
    },
    {
      "cell_type": "code",
      "execution_count": null,
      "metadata": {
        "execution": {
          "iopub.execute_input": "2020-12-15T20:21:03.515431Z",
          "iopub.status.busy": "2020-12-15T20:21:03.513820Z",
          "iopub.status.idle": "2020-12-15T20:21:03.519071Z",
          "shell.execute_reply": "2020-12-15T20:21:03.518567Z"
        },
        "papermill": {
          "duration": 0.164836,
          "end_time": "2020-12-15T20:21:03.519182",
          "exception": false,
          "start_time": "2020-12-15T20:21:03.354346",
          "status": "completed"
        },
        "tags": [],
        "id": "x9uhUyUnvGg0",
        "outputId": "0bf7abc1-4ff1-40ff-d3dd-1cc1fdb7d73a"
      },
      "outputs": [
        {
          "data": {
            "text/plain": [
              "35"
            ]
          },
          "execution_count": 23,
          "metadata": {},
          "output_type": "execute_result"
        }
      ],
      "source": [
        "gc.collect()"
      ]
    },
    {
      "cell_type": "code",
      "execution_count": null,
      "metadata": {
        "execution": {
          "iopub.execute_input": "2020-12-15T20:21:03.610513Z",
          "iopub.status.busy": "2020-12-15T20:21:03.609366Z",
          "iopub.status.idle": "2020-12-15T20:21:03.612953Z",
          "shell.execute_reply": "2020-12-15T20:21:03.613436Z"
        },
        "papermill": {
          "duration": 0.051903,
          "end_time": "2020-12-15T20:21:03.613553",
          "exception": false,
          "start_time": "2020-12-15T20:21:03.561650",
          "status": "completed"
        },
        "tags": [],
        "id": "g_U_S0FPvGg2",
        "outputId": "68be0a2f-8fad-405f-8b31-8bb4ee25c699"
      },
      "outputs": [
        {
          "data": {
            "text/plain": [
              "{'divide': 'warn', 'over': 'warn', 'under': 'ignore', 'invalid': 'warn'}"
            ]
          },
          "execution_count": 24,
          "metadata": {},
          "output_type": "execute_result"
        }
      ],
      "source": [
        "np.seterr(over='ignore')"
      ]
    },
    {
      "cell_type": "code",
      "execution_count": null,
      "metadata": {
        "execution": {
          "iopub.execute_input": "2020-12-15T20:21:03.703534Z",
          "iopub.status.busy": "2020-12-15T20:21:03.702871Z",
          "iopub.status.idle": "2020-12-15T21:31:21.415702Z",
          "shell.execute_reply": "2020-12-15T21:31:21.414901Z"
        },
        "papermill": {
          "duration": 4217.760469,
          "end_time": "2020-12-15T21:31:21.415854",
          "exception": false,
          "start_time": "2020-12-15T20:21:03.655385",
          "status": "completed"
        },
        "tags": [],
        "id": "tGQmaJblvGg2",
        "outputId": "5da416e7-0f6e-4e0b-eece-047216211c23"
      },
      "outputs": [
        {
          "name": "stderr",
          "output_type": "stream",
          "text": [
            "\u001b[32m[I 2020-12-15 20:21:03,701]\u001b[0m A new study created in memory with name: no-name-88a416e4-8a6f-402d-850e-0d18fa6f7ae8\u001b[0m\n",
            "\u001b[32m[I 2020-12-15 20:21:53,500]\u001b[0m Trial 0 finished with value: 0.5141664924733722 and parameters: {'n_estimators': 458, 'max_depth': 9, 'learning_rate': 0.08375271169986709, 'subsample': 0.8555057579780105, 'colsample_bytree': 0.7103039680279868, 'gamma': 13}. Best is trial 0 with value: 0.5141664924733722.\u001b[0m\n"
          ]
        },
        {
          "name": "stdout",
          "output_type": "stream",
          "text": [
            "Trial done: AUC values on folds: [0.5113837400759108, 0.512626123714887, 0.5184896136293188]\n"
          ]
        },
        {
          "name": "stderr",
          "output_type": "stream",
          "text": [
            "\u001b[32m[I 2020-12-15 20:22:41,765]\u001b[0m Trial 1 finished with value: 0.5152300567807907 and parameters: {'n_estimators': 565, 'max_depth': 7, 'learning_rate': 0.09553171615816701, 'subsample': 0.836948277336657, 'colsample_bytree': 0.8240909489290962, 'gamma': 17}. Best is trial 1 with value: 0.5152300567807907.\u001b[0m\n"
          ]
        },
        {
          "name": "stdout",
          "output_type": "stream",
          "text": [
            "Trial done: AUC values on folds: [0.5136298330136863, 0.5118419131788023, 0.5202184241498836]\n"
          ]
        },
        {
          "name": "stderr",
          "output_type": "stream",
          "text": [
            "\u001b[32m[I 2020-12-15 20:23:32,164]\u001b[0m Trial 2 finished with value: 0.5157172306971335 and parameters: {'n_estimators': 592, 'max_depth': 4, 'learning_rate': 0.08885108859532848, 'subsample': 0.6256257076322187, 'colsample_bytree': 0.5205415170557575, 'gamma': 12}. Best is trial 2 with value: 0.5157172306971335.\u001b[0m\n"
          ]
        },
        {
          "name": "stdout",
          "output_type": "stream",
          "text": [
            "Trial done: AUC values on folds: [0.514887870963439, 0.5128355456579992, 0.5194282754699625]\n"
          ]
        },
        {
          "name": "stderr",
          "output_type": "stream",
          "text": [
            "\u001b[32m[I 2020-12-15 20:25:37,790]\u001b[0m Trial 3 finished with value: 0.5137686728114388 and parameters: {'n_estimators': 847, 'max_depth': 7, 'learning_rate': 0.05616785340096561, 'subsample': 0.8160460518060002, 'colsample_bytree': 0.8926641905672078, 'gamma': 3}. Best is trial 2 with value: 0.5157172306971335.\u001b[0m\n"
          ]
        },
        {
          "name": "stdout",
          "output_type": "stream",
          "text": [
            "Trial done: AUC values on folds: [0.5126016959745003, 0.5110367282990136, 0.5176675941608023]\n"
          ]
        },
        {
          "name": "stderr",
          "output_type": "stream",
          "text": [
            "\u001b[32m[I 2020-12-15 20:26:27,384]\u001b[0m Trial 4 finished with value: 0.5144795469116484 and parameters: {'n_estimators': 714, 'max_depth': 5, 'learning_rate': 0.09354610006245012, 'subsample': 0.7260138659144179, 'colsample_bytree': 0.5403306965039079, 'gamma': 20}. Best is trial 2 with value: 0.5157172306971335.\u001b[0m\n"
          ]
        },
        {
          "name": "stdout",
          "output_type": "stream",
          "text": [
            "Trial done: AUC values on folds: [0.5130829551810951, 0.5108054806607365, 0.5195502048931135]\n"
          ]
        },
        {
          "name": "stderr",
          "output_type": "stream",
          "text": [
            "\u001b[32m[I 2020-12-15 20:27:57,810]\u001b[0m Trial 5 finished with value: 0.5140349039274476 and parameters: {'n_estimators': 466, 'max_depth': 10, 'learning_rate': 0.06951653265659365, 'subsample': 0.7709499113355999, 'colsample_bytree': 0.8394791776476451, 'gamma': 5}. Best is trial 2 with value: 0.5157172306971335.\u001b[0m\n"
          ]
        },
        {
          "name": "stdout",
          "output_type": "stream",
          "text": [
            "Trial done: AUC values on folds: [0.5123055996718746, 0.5124164860599288, 0.517382626050539]\n"
          ]
        },
        {
          "name": "stderr",
          "output_type": "stream",
          "text": [
            "\u001b[32m[I 2020-12-15 20:29:10,425]\u001b[0m Trial 6 finished with value: 0.5171783715135553 and parameters: {'n_estimators': 972, 'max_depth': 3, 'learning_rate': 0.06170245510461953, 'subsample': 0.518446664923057, 'colsample_bytree': 0.6325011604603732, 'gamma': 0}. Best is trial 6 with value: 0.5171783715135553.\u001b[0m\n"
          ]
        },
        {
          "name": "stdout",
          "output_type": "stream",
          "text": [
            "Trial done: AUC values on folds: [0.5155749588535293, 0.5141458908414365, 0.5218142648457001]\n"
          ]
        },
        {
          "name": "stderr",
          "output_type": "stream",
          "text": [
            "\u001b[32m[I 2020-12-15 20:30:03,551]\u001b[0m Trial 7 finished with value: 0.5167356705402141 and parameters: {'n_estimators': 459, 'max_depth': 3, 'learning_rate': 0.07157593785234367, 'subsample': 0.7789674719618789, 'colsample_bytree': 0.5693724612058878, 'gamma': 1}. Best is trial 6 with value: 0.5171783715135553.\u001b[0m\n"
          ]
        },
        {
          "name": "stdout",
          "output_type": "stream",
          "text": [
            "Trial done: AUC values on folds: [0.515742137425345, 0.5144071970844593, 0.5200576771108378]\n"
          ]
        },
        {
          "name": "stderr",
          "output_type": "stream",
          "text": [
            "\u001b[32m[I 2020-12-15 20:32:52,116]\u001b[0m Trial 8 finished with value: 0.5148204793482094 and parameters: {'n_estimators': 665, 'max_depth': 9, 'learning_rate': 0.027013434047118853, 'subsample': 0.6102382990196407, 'colsample_bytree': 0.7870635310154817, 'gamma': 0}. Best is trial 6 with value: 0.5171783715135553.\u001b[0m\n"
          ]
        },
        {
          "name": "stdout",
          "output_type": "stream",
          "text": [
            "Trial done: AUC values on folds: [0.5136828033641684, 0.5121968586767188, 0.5185817760037411]\n"
          ]
        },
        {
          "name": "stderr",
          "output_type": "stream",
          "text": [
            "\u001b[32m[I 2020-12-15 20:34:18,258]\u001b[0m Trial 9 finished with value: 0.5157315001088347 and parameters: {'n_estimators': 781, 'max_depth': 9, 'learning_rate': 0.011955580090083946, 'subsample': 0.788349133410762, 'colsample_bytree': 0.7991821340297733, 'gamma': 13}. Best is trial 6 with value: 0.5171783715135553.\u001b[0m\n"
          ]
        },
        {
          "name": "stdout",
          "output_type": "stream",
          "text": [
            "Trial done: AUC values on folds: [0.5135727182184155, 0.512976120316039, 0.5206456617920496]\n"
          ]
        },
        {
          "name": "stderr",
          "output_type": "stream",
          "text": [
            "\u001b[32m[I 2020-12-15 20:35:30,058]\u001b[0m Trial 10 finished with value: 0.5174426879233104 and parameters: {'n_estimators': 998, 'max_depth': 3, 'learning_rate': 0.03748911856760309, 'subsample': 0.5106799225507807, 'colsample_bytree': 0.6298934866868671, 'gamma': 6}. Best is trial 10 with value: 0.5174426879233104.\u001b[0m\n"
          ]
        },
        {
          "name": "stdout",
          "output_type": "stream",
          "text": [
            "Trial done: AUC values on folds: [0.5167949926290824, 0.5143822985160816, 0.5211507726247671]\n"
          ]
        },
        {
          "name": "stderr",
          "output_type": "stream",
          "text": [
            "\u001b[32m[I 2020-12-15 20:36:42,502]\u001b[0m Trial 11 finished with value: 0.5174233910743218 and parameters: {'n_estimators': 1000, 'max_depth': 3, 'learning_rate': 0.035750794776256575, 'subsample': 0.5123936322990968, 'colsample_bytree': 0.6315178699067902, 'gamma': 7}. Best is trial 10 with value: 0.5174426879233104.\u001b[0m\n"
          ]
        },
        {
          "name": "stdout",
          "output_type": "stream",
          "text": [
            "Trial done: AUC values on folds: [0.5166093993026782, 0.5142891202411582, 0.521371653679129]\n"
          ]
        },
        {
          "name": "stderr",
          "output_type": "stream",
          "text": [
            "\u001b[32m[I 2020-12-15 20:38:07,860]\u001b[0m Trial 12 finished with value: 0.5166154391291804 and parameters: {'n_estimators': 994, 'max_depth': 5, 'learning_rate': 0.03706844736252207, 'subsample': 0.5034664565403157, 'colsample_bytree': 0.6445799352294884, 'gamma': 7}. Best is trial 10 with value: 0.5174426879233104.\u001b[0m\n"
          ]
        },
        {
          "name": "stdout",
          "output_type": "stream",
          "text": [
            "Trial done: AUC values on folds: [0.5158188149371568, 0.5127652525973474, 0.521262249853037]\n"
          ]
        },
        {
          "name": "stderr",
          "output_type": "stream",
          "text": [
            "\u001b[32m[I 2020-12-15 20:39:14,069]\u001b[0m Trial 13 finished with value: 0.5170596652798801 and parameters: {'n_estimators': 905, 'max_depth': 3, 'learning_rate': 0.039828919626286444, 'subsample': 0.5673936992232335, 'colsample_bytree': 0.619138835523536, 'gamma': 8}. Best is trial 10 with value: 0.5174426879233104.\u001b[0m\n"
          ]
        },
        {
          "name": "stdout",
          "output_type": "stream",
          "text": [
            "Trial done: AUC values on folds: [0.5160581649536331, 0.5145437074439261, 0.5205771234420813]\n"
          ]
        },
        {
          "name": "stderr",
          "output_type": "stream",
          "text": [
            "\u001b[32m[I 2020-12-15 20:40:36,862]\u001b[0m Trial 14 finished with value: 0.5171352269750429 and parameters: {'n_estimators': 998, 'max_depth': 5, 'learning_rate': 0.017252091024553634, 'subsample': 0.5507958306217526, 'colsample_bytree': 0.7132107248115811, 'gamma': 9}. Best is trial 10 with value: 0.5174426879233104.\u001b[0m\n"
          ]
        },
        {
          "name": "stdout",
          "output_type": "stream",
          "text": [
            "Trial done: AUC values on folds: [0.5161342977025563, 0.5142072213606605, 0.5210641618619118]\n"
          ]
        },
        {
          "name": "stderr",
          "output_type": "stream",
          "text": [
            "\u001b[32m[I 2020-12-15 20:41:54,069]\u001b[0m Trial 15 finished with value: 0.5166783909487537 and parameters: {'n_estimators': 897, 'max_depth': 4, 'learning_rate': 0.04506635965490423, 'subsample': 0.6529271078087704, 'colsample_bytree': 0.6725915508729757, 'gamma': 5}. Best is trial 10 with value: 0.5174426879233104.\u001b[0m\n"
          ]
        },
        {
          "name": "stdout",
          "output_type": "stream",
          "text": [
            "Trial done: AUC values on folds: [0.5148390432010213, 0.5151849526599234, 0.5200111769853162]\n"
          ]
        },
        {
          "name": "stderr",
          "output_type": "stream",
          "text": [
            "\u001b[32m[I 2020-12-15 20:43:27,961]\u001b[0m Trial 16 finished with value: 0.5166355223760539 and parameters: {'n_estimators': 825, 'max_depth': 6, 'learning_rate': 0.026487944171667006, 'subsample': 0.5025079553387645, 'colsample_bytree': 0.5828192930948464, 'gamma': 4}. Best is trial 10 with value: 0.5174426879233104.\u001b[0m\n"
          ]
        },
        {
          "name": "stdout",
          "output_type": "stream",
          "text": [
            "Trial done: AUC values on folds: [0.515626027243229, 0.5133610547246696, 0.5209194851602632]\n"
          ]
        },
        {
          "name": "stderr",
          "output_type": "stream",
          "text": [
            "\u001b[32m[I 2020-12-15 20:44:26,707]\u001b[0m Trial 17 finished with value: 0.5161768592326884 and parameters: {'n_estimators': 917, 'max_depth': 4, 'learning_rate': 0.04701202925133511, 'subsample': 0.8947814614853669, 'colsample_bytree': 0.7465524060692359, 'gamma': 11}. Best is trial 10 with value: 0.5174426879233104.\u001b[0m\n"
          ]
        },
        {
          "name": "stdout",
          "output_type": "stream",
          "text": [
            "Trial done: AUC values on folds: [0.5141328830058965, 0.5134752939872833, 0.5209224007048855]\n"
          ]
        },
        {
          "name": "stderr",
          "output_type": "stream",
          "text": [
            "\u001b[32m[I 2020-12-15 20:45:30,225]\u001b[0m Trial 18 finished with value: 0.5167194181415544 and parameters: {'n_estimators': 751, 'max_depth': 3, 'learning_rate': 0.028869781840682472, 'subsample': 0.5623935258831217, 'colsample_bytree': 0.5941783377821218, 'gamma': 7}. Best is trial 10 with value: 0.5174426879233104.\u001b[0m\n"
          ]
        },
        {
          "name": "stdout",
          "output_type": "stream",
          "text": [
            "Trial done: AUC values on folds: [0.5158067943694665, 0.5137886550748432, 0.5205628049803535]\n"
          ]
        },
        {
          "name": "stderr",
          "output_type": "stream",
          "text": [
            "\u001b[32m[I 2020-12-15 20:46:23,091]\u001b[0m Trial 19 finished with value: 0.5158526560147573 and parameters: {'n_estimators': 350, 'max_depth': 6, 'learning_rate': 0.019019099865241765, 'subsample': 0.6851298280441831, 'colsample_bytree': 0.6607898198481074, 'gamma': 16}. Best is trial 10 with value: 0.5174426879233104.\u001b[0m\n"
          ]
        },
        {
          "name": "stdout",
          "output_type": "stream",
          "text": [
            "Trial done: AUC values on folds: [0.5137795961874103, 0.5139561061225144, 0.5198222657343471]\n"
          ]
        },
        {
          "name": "stderr",
          "output_type": "stream",
          "text": [
            "\u001b[32m[I 2020-12-15 20:47:42,208]\u001b[0m Trial 20 finished with value: 0.5163743435233327 and parameters: {'n_estimators': 947, 'max_depth': 4, 'learning_rate': 0.03565013830784839, 'subsample': 0.6046457874217519, 'colsample_bytree': 0.6860690734642784, 'gamma': 3}. Best is trial 10 with value: 0.5174426879233104.\u001b[0m\n"
          ]
        },
        {
          "name": "stdout",
          "output_type": "stream",
          "text": [
            "Trial done: AUC values on folds: [0.5151715514861829, 0.5134186817605324, 0.5205327973232828]\n"
          ]
        },
        {
          "name": "stderr",
          "output_type": "stream",
          "text": [
            "\u001b[32m[I 2020-12-15 20:48:55,592]\u001b[0m Trial 21 finished with value: 0.5170955140949112 and parameters: {'n_estimators': 995, 'max_depth': 3, 'learning_rate': 0.05925388412960224, 'subsample': 0.5005034217229992, 'colsample_bytree': 0.6247773641933378, 'gamma': 1}. Best is trial 10 with value: 0.5174426879233104.\u001b[0m\n"
          ]
        },
        {
          "name": "stdout",
          "output_type": "stream",
          "text": [
            "Trial done: AUC values on folds: [0.5165873760551893, 0.5137976432861439, 0.5209015229434002]\n"
          ]
        },
        {
          "name": "stderr",
          "output_type": "stream",
          "text": [
            "\u001b[32m[I 2020-12-15 20:50:05,471]\u001b[0m Trial 22 finished with value: 0.5173083421010557 and parameters: {'n_estimators': 959, 'max_depth': 3, 'learning_rate': 0.0671542882265195, 'subsample': 0.5350223635378872, 'colsample_bytree': 0.6169677082412878, 'gamma': 6}. Best is trial 10 with value: 0.5174426879233104.\u001b[0m\n"
          ]
        },
        {
          "name": "stdout",
          "output_type": "stream",
          "text": [
            "Trial done: AUC values on folds: [0.5158617533728733, 0.5147658199386399, 0.5212974529916535]\n"
          ]
        },
        {
          "name": "stderr",
          "output_type": "stream",
          "text": [
            "\u001b[32m[I 2020-12-15 20:51:18,191]\u001b[0m Trial 23 finished with value: 0.5170011314813093 and parameters: {'n_estimators': 856, 'max_depth': 4, 'learning_rate': 0.04863120281093923, 'subsample': 0.5381446052148966, 'colsample_bytree': 0.5013782499257964, 'gamma': 6}. Best is trial 10 with value: 0.5174426879233104.\u001b[0m\n"
          ]
        },
        {
          "name": "stdout",
          "output_type": "stream",
          "text": [
            "Trial done: AUC values on folds: [0.5160245939617186, 0.5147020522184764, 0.5202767482637328]\n"
          ]
        },
        {
          "name": "stderr",
          "output_type": "stream",
          "text": [
            "\u001b[32m[I 2020-12-15 20:52:17,123]\u001b[0m Trial 24 finished with value: 0.5173603838393301 and parameters: {'n_estimators': 931, 'max_depth': 3, 'learning_rate': 0.07871775061700095, 'subsample': 0.5654544285366887, 'colsample_bytree': 0.5605864957591857, 'gamma': 10}. Best is trial 10 with value: 0.5174426879233104.\u001b[0m\n"
          ]
        },
        {
          "name": "stdout",
          "output_type": "stream",
          "text": [
            "Trial done: AUC values on folds: [0.5155840052190743, 0.5154680699342776, 0.5210290763646386]\n"
          ]
        },
        {
          "name": "stderr",
          "output_type": "stream",
          "text": [
            "\u001b[32m[I 2020-12-15 20:53:16,672]\u001b[0m Trial 25 finished with value: 0.5164404541543244 and parameters: {'n_estimators': 888, 'max_depth': 5, 'learning_rate': 0.08313377017910595, 'subsample': 0.5810786223348063, 'colsample_bytree': 0.5561198064131472, 'gamma': 10}. Best is trial 10 with value: 0.5174426879233104.\u001b[0m\n"
          ]
        },
        {
          "name": "stdout",
          "output_type": "stream",
          "text": [
            "Trial done: AUC values on folds: [0.5151861915541733, 0.5143062867890659, 0.519828884119734]\n"
          ]
        },
        {
          "name": "stderr",
          "output_type": "stream",
          "text": [
            "\u001b[32m[I 2020-12-15 20:54:15,606]\u001b[0m Trial 26 finished with value: 0.5162010084889065 and parameters: {'n_estimators': 793, 'max_depth': 4, 'learning_rate': 0.07559231087650738, 'subsample': 0.6474639053030989, 'colsample_bytree': 0.5969573397937397, 'gamma': 9}. Best is trial 10 with value: 0.5174426879233104.\u001b[0m\n"
          ]
        },
        {
          "name": "stdout",
          "output_type": "stream",
          "text": [
            "Trial done: AUC values on folds: [0.5138779212132444, 0.5147938674754008, 0.5199312367780742]\n"
          ]
        },
        {
          "name": "stderr",
          "output_type": "stream",
          "text": [
            "\u001b[32m[I 2020-12-15 20:55:12,204]\u001b[0m Trial 27 finished with value: 0.5154723015550043 and parameters: {'n_estimators': 940, 'max_depth': 3, 'learning_rate': 0.052970826585471587, 'subsample': 0.5854843687442047, 'colsample_bytree': 0.5370273599476707, 'gamma': 15}. Best is trial 10 with value: 0.5174426879233104.\u001b[0m\n"
          ]
        },
        {
          "name": "stdout",
          "output_type": "stream",
          "text": [
            "Trial done: AUC values on folds: [0.5140296545064094, 0.5138134685995196, 0.5185737815590842]\n"
          ]
        },
        {
          "name": "stderr",
          "output_type": "stream",
          "text": [
            "\u001b[32m[I 2020-12-15 20:56:19,956]\u001b[0m Trial 28 finished with value: 0.5173330431409356 and parameters: {'n_estimators': 992, 'max_depth': 4, 'learning_rate': 0.033341641103092554, 'subsample': 0.5279147185307607, 'colsample_bytree': 0.5064848164589253, 'gamma': 10}. Best is trial 10 with value: 0.5174426879233104.\u001b[0m\n"
          ]
        },
        {
          "name": "stdout",
          "output_type": "stream",
          "text": [
            "Trial done: AUC values on folds: [0.5160196025130956, 0.5143014247648994, 0.5216781021448118]\n"
          ]
        },
        {
          "name": "stderr",
          "output_type": "stream",
          "text": [
            "\u001b[32m[I 2020-12-15 20:57:15,763]\u001b[0m Trial 29 finished with value: 0.5159038782590528 and parameters: {'n_estimators': 866, 'max_depth': 6, 'learning_rate': 0.07887909669820704, 'subsample': 0.5020798613239419, 'colsample_bytree': 0.7156501115992255, 'gamma': 14}. Best is trial 10 with value: 0.5174426879233104.\u001b[0m\n"
          ]
        },
        {
          "name": "stdout",
          "output_type": "stream",
          "text": [
            "Trial done: AUC values on folds: [0.5155938128077945, 0.514234448016688, 0.5178833739526759]\n"
          ]
        },
        {
          "name": "stderr",
          "output_type": "stream",
          "text": [
            "\u001b[32m[I 2020-12-15 20:58:23,072]\u001b[0m Trial 30 finished with value: 0.5176460608163055 and parameters: {'n_estimators': 935, 'max_depth': 3, 'learning_rate': 0.04072578129809286, 'subsample': 0.6670598861919381, 'colsample_bytree': 0.6564568818408257, 'gamma': 8}. Best is trial 30 with value: 0.5176460608163055.\u001b[0m\n"
          ]
        },
        {
          "name": "stdout",
          "output_type": "stream",
          "text": [
            "Trial done: AUC values on folds: [0.5165298889698315, 0.5144922327842401, 0.5219160606948449]\n"
          ]
        },
        {
          "name": "stderr",
          "output_type": "stream",
          "text": [
            "\u001b[32m[I 2020-12-15 20:59:29,488]\u001b[0m Trial 31 finished with value: 0.5170174044581817 and parameters: {'n_estimators': 941, 'max_depth': 3, 'learning_rate': 0.04225206618753071, 'subsample': 0.7176910422330622, 'colsample_bytree': 0.6622960400439253, 'gamma': 8}. Best is trial 30 with value: 0.5176460608163055.\u001b[0m\n"
          ]
        },
        {
          "name": "stdout",
          "output_type": "stream",
          "text": [
            "Trial done: AUC values on folds: [0.5157239155675244, 0.5143481345932205, 0.5209801632137999]\n"
          ]
        },
        {
          "name": "stderr",
          "output_type": "stream",
          "text": [
            "\u001b[32m[I 2020-12-15 21:00:42,951]\u001b[0m Trial 32 finished with value: 0.5157904368133613 and parameters: {'n_estimators': 911, 'max_depth': 8, 'learning_rate': 0.02253415900256015, 'subsample': 0.7010688160031456, 'colsample_bytree': 0.5989898753081087, 'gamma': 12}. Best is trial 30 with value: 0.5176460608163055.\u001b[0m\n"
          ]
        },
        {
          "name": "stdout",
          "output_type": "stream",
          "text": [
            "Trial done: AUC values on folds: [0.5133432753785953, 0.5136698417086738, 0.520358193352815]\n"
          ]
        },
        {
          "name": "stderr",
          "output_type": "stream",
          "text": [
            "\u001b[32m[I 2020-12-15 21:01:50,503]\u001b[0m Trial 33 finished with value: 0.5177046144288163 and parameters: {'n_estimators': 997, 'max_depth': 3, 'learning_rate': 0.05225334248788404, 'subsample': 0.6628646821072358, 'colsample_bytree': 0.7378948607289495, 'gamma': 8}. Best is trial 33 with value: 0.5177046144288163.\u001b[0m\n"
          ]
        },
        {
          "name": "stdout",
          "output_type": "stream",
          "text": [
            "Trial done: AUC values on folds: [0.5161054002205594, 0.515184011888473, 0.5218244311774164]\n"
          ]
        },
        {
          "name": "stderr",
          "output_type": "stream",
          "text": [
            "\u001b[32m[I 2020-12-15 21:02:50,933]\u001b[0m Trial 34 finished with value: 0.5169739311135115 and parameters: {'n_estimators': 636, 'max_depth': 4, 'learning_rate': 0.052056156748943774, 'subsample': 0.662956307483201, 'colsample_bytree': 0.741513469579988, 'gamma': 8}. Best is trial 33 with value: 0.5177046144288163.\u001b[0m\n"
          ]
        },
        {
          "name": "stdout",
          "output_type": "stream",
          "text": [
            "Trial done: AUC values on folds: [0.5149857416994923, 0.5142166549736498, 0.5217193966673925]\n"
          ]
        },
        {
          "name": "stderr",
          "output_type": "stream",
          "text": [
            "\u001b[32m[I 2020-12-15 21:04:24,325]\u001b[0m Trial 35 finished with value: 0.5165032247765353 and parameters: {'n_estimators': 979, 'max_depth': 5, 'learning_rate': 0.03270425637524276, 'subsample': 0.7389599630808033, 'colsample_bytree': 0.746987776473528, 'gamma': 3}. Best is trial 33 with value: 0.5177046144288163.\u001b[0m\n"
          ]
        },
        {
          "name": "stdout",
          "output_type": "stream",
          "text": [
            "Trial done: AUC values on folds: [0.5149918258134445, 0.5136893253381916, 0.5208285231779699]\n"
          ]
        },
        {
          "name": "stderr",
          "output_type": "stream",
          "text": [
            "\u001b[32m[I 2020-12-15 21:05:45,064]\u001b[0m Trial 36 finished with value: 0.5167274834789674 and parameters: {'n_estimators': 999, 'max_depth': 4, 'learning_rate': 0.04291333990056235, 'subsample': 0.6233691116966665, 'colsample_bytree': 0.6886621719668429, 'gamma': 6}. Best is trial 33 with value: 0.5177046144288163.\u001b[0m\n"
          ]
        },
        {
          "name": "stdout",
          "output_type": "stream",
          "text": [
            "Trial done: AUC values on folds: [0.5162395484785558, 0.5135318131362505, 0.5204110888220956]\n"
          ]
        },
        {
          "name": "stderr",
          "output_type": "stream",
          "text": [
            "\u001b[32m[I 2020-12-15 21:06:42,058]\u001b[0m Trial 37 finished with value: 0.5165316666872345 and parameters: {'n_estimators': 571, 'max_depth': 3, 'learning_rate': 0.05704339533970141, 'subsample': 0.6776474734145825, 'colsample_bytree': 0.7039470394213861, 'gamma': 5}. Best is trial 33 with value: 0.5177046144288163.\u001b[0m\n"
          ]
        },
        {
          "name": "stdout",
          "output_type": "stream",
          "text": [
            "Trial done: AUC values on folds: [0.515694720570789, 0.5132793846195663, 0.5206208948713482]\n"
          ]
        },
        {
          "name": "stderr",
          "output_type": "stream",
          "text": [
            "\u001b[32m[I 2020-12-15 21:07:36,153]\u001b[0m Trial 38 finished with value: 0.5170028143040324 and parameters: {'n_estimators': 508, 'max_depth': 3, 'learning_rate': 0.048853629437336926, 'subsample': 0.7346135782065364, 'colsample_bytree': 0.6506172015738323, 'gamma': 7}. Best is trial 33 with value: 0.5177046144288163.\u001b[0m\n"
          ]
        },
        {
          "name": "stdout",
          "output_type": "stream",
          "text": [
            "Trial done: AUC values on folds: [0.5155539883686782, 0.5145838181227095, 0.5208706364207094]\n"
          ]
        },
        {
          "name": "stderr",
          "output_type": "stream",
          "text": [
            "\u001b[32m[I 2020-12-15 21:08:31,217]\u001b[0m Trial 39 finished with value: 0.5154541245403572 and parameters: {'n_estimators': 822, 'max_depth': 4, 'learning_rate': 0.038566275458564156, 'subsample': 0.635506951069506, 'colsample_bytree': 0.768976079327223, 'gamma': 20}. Best is trial 33 with value: 0.5177046144288163.\u001b[0m\n"
          ]
        },
        {
          "name": "stdout",
          "output_type": "stream",
          "text": [
            "Trial done: AUC values on folds: [0.5141067014725841, 0.5121282871631567, 0.5201273849853307]\n"
          ]
        },
        {
          "name": "stderr",
          "output_type": "stream",
          "text": [
            "\u001b[32m[I 2020-12-15 21:09:43,838]\u001b[0m Trial 40 finished with value: 0.5147391071047961 and parameters: {'n_estimators': 360, 'max_depth': 8, 'learning_rate': 0.06588215664482659, 'subsample': 0.8581618569987259, 'colsample_bytree': 0.8487390656576331, 'gamma': 4}. Best is trial 33 with value: 0.5177046144288163.\u001b[0m\n"
          ]
        },
        {
          "name": "stdout",
          "output_type": "stream",
          "text": [
            "Trial done: AUC values on folds: [0.513368554949036, 0.5127203885504629, 0.5181283778148894]\n"
          ]
        },
        {
          "name": "stderr",
          "output_type": "stream",
          "text": [
            "\u001b[32m[I 2020-12-15 21:10:43,697]\u001b[0m Trial 41 finished with value: 0.5167513003732506 and parameters: {'n_estimators': 936, 'max_depth': 3, 'learning_rate': 0.061662672586325594, 'subsample': 0.5873110043402047, 'colsample_bytree': 0.5670292710540193, 'gamma': 11}. Best is trial 33 with value: 0.5177046144288163.\u001b[0m\n"
          ]
        },
        {
          "name": "stdout",
          "output_type": "stream",
          "text": [
            "Trial done: AUC values on folds: [0.5153468263883936, 0.5135465663241949, 0.5213605084071633]\n"
          ]
        },
        {
          "name": "stderr",
          "output_type": "stream",
          "text": [
            "\u001b[32m[I 2020-12-15 21:11:39,004]\u001b[0m Trial 42 finished with value: 0.5166975578789214 and parameters: {'n_estimators': 876, 'max_depth': 3, 'learning_rate': 0.09718827532260958, 'subsample': 0.7550395126868104, 'colsample_bytree': 0.6356139297262775, 'gamma': 11}. Best is trial 33 with value: 0.5177046144288163.\u001b[0m\n"
          ]
        },
        {
          "name": "stdout",
          "output_type": "stream",
          "text": [
            "Trial done: AUC values on folds: [0.5161949911481051, 0.5129798730816373, 0.5209178094070217]\n"
          ]
        },
        {
          "name": "stderr",
          "output_type": "stream",
          "text": [
            "\u001b[32m[I 2020-12-15 21:12:39,070]\u001b[0m Trial 43 finished with value: 0.5168129368060143 and parameters: {'n_estimators': 968, 'max_depth': 3, 'learning_rate': 0.09193226200147211, 'subsample': 0.7043050686590527, 'colsample_bytree': 0.7312665397244955, 'gamma': 9}. Best is trial 33 with value: 0.5177046144288163.\u001b[0m\n"
          ]
        },
        {
          "name": "stdout",
          "output_type": "stream",
          "text": [
            "Trial done: AUC values on folds: [0.5158815614470816, 0.51420412121729, 0.5203531277536709]\n"
          ]
        },
        {
          "name": "stderr",
          "output_type": "stream",
          "text": [
            "\u001b[32m[I 2020-12-15 21:13:53,772]\u001b[0m Trial 44 finished with value: 0.5172639328518697 and parameters: {'n_estimators': 923, 'max_depth': 4, 'learning_rate': 0.02955782968546352, 'subsample': 0.5175707998106592, 'colsample_bytree': 0.670529595937522, 'gamma': 8}. Best is trial 33 with value: 0.5177046144288163.\u001b[0m\n"
          ]
        },
        {
          "name": "stdout",
          "output_type": "stream",
          "text": [
            "Trial done: AUC values on folds: [0.5155258357706832, 0.5151385804916739, 0.5211273822932516]\n"
          ]
        },
        {
          "name": "stderr",
          "output_type": "stream",
          "text": [
            "\u001b[32m[I 2020-12-15 21:14:52,839]\u001b[0m Trial 45 finished with value: 0.5165869965623141 and parameters: {'n_estimators': 957, 'max_depth': 3, 'learning_rate': 0.05191271793411039, 'subsample': 0.5442926528405505, 'colsample_bytree': 0.5377046880713776, 'gamma': 12}. Best is trial 33 with value: 0.5177046144288163.\u001b[0m\n"
          ]
        },
        {
          "name": "stdout",
          "output_type": "stream",
          "text": [
            "Trial done: AUC values on folds: [0.5153686526543211, 0.5137491468216022, 0.520643190211019]\n"
          ]
        },
        {
          "name": "stderr",
          "output_type": "stream",
          "text": [
            "\u001b[32m[I 2020-12-15 21:16:32,822]\u001b[0m Trial 46 finished with value: 0.5143660551147983 and parameters: {'n_estimators': 832, 'max_depth': 10, 'learning_rate': 0.040563426526475384, 'subsample': 0.6055514984632477, 'colsample_bytree': 0.6093933039481614, 'gamma': 7}. Best is trial 33 with value: 0.5177046144288163.\u001b[0m\n"
          ]
        },
        {
          "name": "stdout",
          "output_type": "stream",
          "text": [
            "Trial done: AUC values on folds: [0.5133093317927659, 0.5115365050816365, 0.5182523284699923]\n"
          ]
        },
        {
          "name": "stderr",
          "output_type": "stream",
          "text": [
            "\u001b[32m[I 2020-12-15 21:17:44,168]\u001b[0m Trial 47 finished with value: 0.5172029344943941 and parameters: {'n_estimators': 996, 'max_depth': 5, 'learning_rate': 0.033162820210087436, 'subsample': 0.6749559283225081, 'colsample_bytree': 0.6417985341165935, 'gamma': 9}. Best is trial 33 with value: 0.5177046144288163.\u001b[0m\n"
          ]
        },
        {
          "name": "stdout",
          "output_type": "stream",
          "text": [
            "Trial done: AUC values on folds: [0.5155718439116876, 0.5146523752010504, 0.5213845843704441]\n"
          ]
        },
        {
          "name": "stderr",
          "output_type": "stream",
          "text": [
            "\u001b[32m[I 2020-12-15 21:18:40,842]\u001b[0m Trial 48 finished with value: 0.5170740910920008 and parameters: {'n_estimators': 709, 'max_depth': 3, 'learning_rate': 0.045214802024009924, 'subsample': 0.5716426021859253, 'colsample_bytree': 0.5791978819544805, 'gamma': 10}. Best is trial 33 with value: 0.5177046144288163.\u001b[0m\n"
          ]
        },
        {
          "name": "stdout",
          "output_type": "stream",
          "text": [
            "Trial done: AUC values on folds: [0.5160940095550034, 0.5142278128770739, 0.520900450843925]\n"
          ]
        },
        {
          "name": "stderr",
          "output_type": "stream",
          "text": [
            "\u001b[32m[I 2020-12-15 21:19:58,946]\u001b[0m Trial 49 finished with value: 0.5172044672911524 and parameters: {'n_estimators': 894, 'max_depth': 4, 'learning_rate': 0.023398889837336474, 'subsample': 0.7997613003457946, 'colsample_bytree': 0.6783166402183923, 'gamma': 5}. Best is trial 33 with value: 0.5177046144288163.\u001b[0m\n"
          ]
        },
        {
          "name": "stdout",
          "output_type": "stream",
          "text": [
            "Trial done: AUC values on folds: [0.5153748988771778, 0.5145701865710455, 0.5216683164252339]\n"
          ]
        },
        {
          "name": "stderr",
          "output_type": "stream",
          "text": [
            "\u001b[32m[I 2020-12-15 21:21:11,220]\u001b[0m Trial 50 finished with value: 0.5171388625072822 and parameters: {'n_estimators': 968, 'max_depth': 3, 'learning_rate': 0.037656775099370696, 'subsample': 0.5154280576874111, 'colsample_bytree': 0.7783224710946349, 'gamma': 4}. Best is trial 33 with value: 0.5177046144288163.\u001b[0m\n"
          ]
        },
        {
          "name": "stdout",
          "output_type": "stream",
          "text": [
            "Trial done: AUC values on folds: [0.5158711054227436, 0.5144796625805798, 0.5210658195185232]\n"
          ]
        },
        {
          "name": "stderr",
          "output_type": "stream",
          "text": [
            "\u001b[32m[I 2020-12-15 21:22:20,065]\u001b[0m Trial 51 finished with value: 0.5170587811523297 and parameters: {'n_estimators': 980, 'max_depth': 4, 'learning_rate': 0.033513243157423295, 'subsample': 0.528013377231792, 'colsample_bytree': 0.5570078925598885, 'gamma': 10}. Best is trial 33 with value: 0.5177046144288163.\u001b[0m\n"
          ]
        },
        {
          "name": "stdout",
          "output_type": "stream",
          "text": [
            "Trial done: AUC values on folds: [0.5156483809876304, 0.513808174008601, 0.5217197884607578]\n"
          ]
        },
        {
          "name": "stderr",
          "output_type": "stream",
          "text": [
            "\u001b[32m[I 2020-12-15 21:23:29,715]\u001b[0m Trial 52 finished with value: 0.5174599029927243 and parameters: {'n_estimators': 919, 'max_depth': 3, 'learning_rate': 0.0285903488052284, 'subsample': 0.5241594704165722, 'colsample_bytree': 0.514185436825835, 'gamma': 7}. Best is trial 33 with value: 0.5177046144288163.\u001b[0m\n"
          ]
        },
        {
          "name": "stdout",
          "output_type": "stream",
          "text": [
            "Trial done: AUC values on folds: [0.5162804482985869, 0.5144360045278406, 0.5216632561517452]\n"
          ]
        },
        {
          "name": "stderr",
          "output_type": "stream",
          "text": [
            "\u001b[32m[I 2020-12-15 21:24:39,716]\u001b[0m Trial 53 finished with value: 0.5165059499208818 and parameters: {'n_estimators': 911, 'max_depth': 3, 'learning_rate': 0.017626200969005523, 'subsample': 0.5478289819295747, 'colsample_bytree': 0.6943680043674001, 'gamma': 6}. Best is trial 33 with value: 0.5177046144288163.\u001b[0m\n"
          ]
        },
        {
          "name": "stdout",
          "output_type": "stream",
          "text": [
            "Trial done: AUC values on folds: [0.5157117410605164, 0.5131946141424806, 0.5206114945596484]\n"
          ]
        },
        {
          "name": "stderr",
          "output_type": "stream",
          "text": [
            "\u001b[32m[I 2020-12-15 21:25:50,108]\u001b[0m Trial 54 finished with value: 0.5157782588154755 and parameters: {'n_estimators': 926, 'max_depth': 3, 'learning_rate': 0.011548227272173674, 'subsample': 0.5576053178941585, 'colsample_bytree': 0.5265413106639217, 'gamma': 8}. Best is trial 33 with value: 0.5177046144288163.\u001b[0m\n"
          ]
        },
        {
          "name": "stdout",
          "output_type": "stream",
          "text": [
            "Trial done: AUC values on folds: [0.5150769323468746, 0.5125550324714173, 0.5197028116281344]\n"
          ]
        },
        {
          "name": "stderr",
          "output_type": "stream",
          "text": [
            "\u001b[32m[I 2020-12-15 21:26:54,565]\u001b[0m Trial 55 finished with value: 0.5171457920141717 and parameters: {'n_estimators': 798, 'max_depth': 3, 'learning_rate': 0.02991264701808541, 'subsample': 0.5205154192039843, 'colsample_bytree': 0.5222088131048997, 'gamma': 7}. Best is trial 33 with value: 0.5177046144288163.\u001b[0m\n"
          ]
        },
        {
          "name": "stdout",
          "output_type": "stream",
          "text": [
            "Trial done: AUC values on folds: [0.516157335700474, 0.5144650169056401, 0.5208150234364007]\n"
          ]
        },
        {
          "name": "stderr",
          "output_type": "stream",
          "text": [
            "\u001b[32m[I 2020-12-15 21:28:02,237]\u001b[0m Trial 56 finished with value: 0.5169339804745331 and parameters: {'n_estimators': 845, 'max_depth': 4, 'learning_rate': 0.026154171740681388, 'subsample': 0.6182590136176805, 'colsample_bytree': 0.6510067320864028, 'gamma': 9}. Best is trial 33 with value: 0.5177046144288163.\u001b[0m\n"
          ]
        },
        {
          "name": "stdout",
          "output_type": "stream",
          "text": [
            "Trial done: AUC values on folds: [0.5151758853843599, 0.5144497206659816, 0.5211763353732579]\n"
          ]
        },
        {
          "name": "stderr",
          "output_type": "stream",
          "text": [
            "\u001b[32m[I 2020-12-15 21:28:57,267]\u001b[0m Trial 57 finished with value: 0.5155452127490903 and parameters: {'n_estimators': 879, 'max_depth': 3, 'learning_rate': 0.044358012523123026, 'subsample': 0.6351553414833891, 'colsample_bytree': 0.6291140762254958, 'gamma': 18}. Best is trial 33 with value: 0.5177046144288163.\u001b[0m\n"
          ]
        },
        {
          "name": "stdout",
          "output_type": "stream",
          "text": [
            "Trial done: AUC values on folds: [0.5146535774146923, 0.511808545152638, 0.5201735156799405]\n"
          ]
        },
        {
          "name": "stderr",
          "output_type": "stream",
          "text": [
            "\u001b[32m[I 2020-12-15 21:30:00,430]\u001b[0m Trial 58 finished with value: 0.517358123912847 and parameters: {'n_estimators': 751, 'max_depth': 3, 'learning_rate': 0.03630646796521097, 'subsample': 0.5022090211090248, 'colsample_bytree': 0.6084763981655434, 'gamma': 6}. Best is trial 33 with value: 0.5177046144288163.\u001b[0m\n"
          ]
        },
        {
          "name": "stdout",
          "output_type": "stream",
          "text": [
            "Trial done: AUC values on folds: [0.5167843858049783, 0.5139497990086049, 0.5213401869249574]\n"
          ]
        },
        {
          "name": "stderr",
          "output_type": "stream",
          "text": [
            "\u001b[32m[I 2020-12-15 21:31:21,311]\u001b[0m Trial 59 finished with value: 0.5162396181766836 and parameters: {'n_estimators': 954, 'max_depth': 4, 'learning_rate': 0.04981614504984631, 'subsample': 0.5987135742704098, 'colsample_bytree': 0.5834818344106663, 'gamma': 2}. Best is trial 33 with value: 0.5177046144288163.\u001b[0m\n"
          ]
        },
        {
          "name": "stdout",
          "output_type": "stream",
          "text": [
            "Trial done: AUC values on folds: [0.5151972693110588, 0.5135074447846507, 0.5200141404343414]\n",
            "Number of finished trials: 60\n",
            "Best trial:\n",
            "  Value: 0.5177046144288163\n",
            "  Params: \n",
            "    n_estimators: 997\n",
            "    max_depth: 3\n",
            "    learning_rate: 0.05225334248788404\n",
            "    subsample: 0.6628646821072358\n",
            "    colsample_bytree: 0.7378948607289495\n",
            "    gamma: 8\n",
            "CPU times: user 1h 17min 57s, sys: 3min 9s, total: 1h 21min 6s\n",
            "Wall time: 1h 10min 17s\n"
          ]
        }
      ],
      "source": [
        "%%time\n",
        "\n",
        "FIT_XGB = True\n",
        "\n",
        "n_trials = 60\n",
        "\n",
        "if FIT_XGB:\n",
        "    study = optuna.create_study(direction=\"maximize\")\n",
        "    study.optimize(objective, n_trials=n_trials)\n",
        "\n",
        "    print(\"Number of finished trials: {}\".format(len(study.trials)))\n",
        "\n",
        "    print(\"Best trial:\")\n",
        "    trial = study.best_trial\n",
        "\n",
        "    print(\"  Value: {}\".format(trial.value))\n",
        "\n",
        "    print(\"  Params: \")\n",
        "    for key, value in trial.params.items():\n",
        "        print(\"    {}: {}\".format(key, value))"
      ]
    },
    {
      "cell_type": "code",
      "execution_count": null,
      "metadata": {
        "execution": {
          "iopub.execute_input": "2020-12-15T21:31:21.591213Z",
          "iopub.status.busy": "2020-12-15T21:31:21.590263Z",
          "iopub.status.idle": "2020-12-15T21:31:21.592833Z",
          "shell.execute_reply": "2020-12-15T21:31:21.593309Z"
        },
        "papermill": {
          "duration": 0.093337,
          "end_time": "2020-12-15T21:31:21.593430",
          "exception": false,
          "start_time": "2020-12-15T21:31:21.500093",
          "status": "completed"
        },
        "tags": [],
        "id": "I_l-V6G1vGg3"
      },
      "outputs": [],
      "source": [
        "best_params = trial.params\n",
        "\n",
        "best_params['missing'] = -999\n",
        "best_params['tree_method'] = 'gpu_hist'"
      ]
    },
    {
      "cell_type": "code",
      "execution_count": null,
      "metadata": {
        "execution": {
          "iopub.execute_input": "2020-12-15T21:31:21.767925Z",
          "iopub.status.busy": "2020-12-15T21:31:21.767225Z",
          "iopub.status.idle": "2020-12-15T21:31:21.770932Z",
          "shell.execute_reply": "2020-12-15T21:31:21.771421Z"
        },
        "papermill": {
          "duration": 0.093698,
          "end_time": "2020-12-15T21:31:21.771536",
          "exception": false,
          "start_time": "2020-12-15T21:31:21.677838",
          "status": "completed"
        },
        "tags": [],
        "id": "vkuA4kRrvGg3",
        "outputId": "0ff47b3b-9916-47c3-fbc9-eb38f2c624fc"
      },
      "outputs": [
        {
          "data": {
            "text/plain": [
              "{'n_estimators': 997,\n",
              " 'max_depth': 3,\n",
              " 'learning_rate': 0.05225334248788404,\n",
              " 'subsample': 0.6628646821072358,\n",
              " 'colsample_bytree': 0.7378948607289495,\n",
              " 'gamma': 8,\n",
              " 'missing': -999,\n",
              " 'tree_method': 'gpu_hist'}"
            ]
          },
          "execution_count": 27,
          "metadata": {},
          "output_type": "execute_result"
        }
      ],
      "source": [
        "best_params"
      ]
    },
    {
      "cell_type": "markdown",
      "metadata": {
        "papermill": {
          "duration": 0.084342,
          "end_time": "2020-12-15T21:31:21.942241",
          "exception": false,
          "start_time": "2020-12-15T21:31:21.857899",
          "status": "completed"
        },
        "tags": [],
        "id": "Uc238NIsvGg3"
      },
      "source": [
        "# Fit the XGBoost Classifier with Optimal Hyperparams"
      ]
    },
    {
      "cell_type": "code",
      "execution_count": null,
      "metadata": {
        "execution": {
          "iopub.execute_input": "2020-12-15T21:31:22.120921Z",
          "iopub.status.busy": "2020-12-15T21:31:22.119549Z",
          "iopub.status.idle": "2020-12-15T21:31:57.686257Z",
          "shell.execute_reply": "2020-12-15T21:31:57.686834Z"
        },
        "papermill": {
          "duration": 35.660402,
          "end_time": "2020-12-15T21:31:57.687001",
          "exception": false,
          "start_time": "2020-12-15T21:31:22.026599",
          "status": "completed"
        },
        "tags": [],
        "id": "ejEJuPLVvGg3",
        "outputId": "bf92998e-d32a-41fe-bf46-0556a4c41175"
      },
      "outputs": [
        {
          "data": {
            "text/plain": [
              "15"
            ]
          },
          "execution_count": 28,
          "metadata": {},
          "output_type": "execute_result"
        }
      ],
      "source": [
        "clf = xgb.XGBClassifier(**best_params)\n",
        "\n",
        "pipe_xgb = Pipeline(steps=[\n",
        "    ('imputer', imp_mean),\n",
        "    ('scaler', scaler),\n",
        "    ('xgb', clf)\n",
        "])\n",
        "\n",
        "pipe_xgb.fit(\n",
        "    train_data.query('date > 100')[\n",
        "        train_data.columns[train_data.columns.str.contains('feature')]\n",
        "    ].values,\n",
        "    (train_data.query('date > 100')['resp'] > 0).astype(int).values\n",
        ")\n",
        "\n",
        "gc.collect()"
      ]
    },
    {
      "cell_type": "markdown",
      "metadata": {
        "papermill": {
          "duration": 0.086595,
          "end_time": "2020-12-15T21:31:57.858084",
          "exception": false,
          "start_time": "2020-12-15T21:31:57.771489",
          "status": "completed"
        },
        "tags": [],
        "id": "EUvpC739vGg3"
      },
      "source": [
        "## Predict on the Test Set\n",
        "\n",
        "Prediction is a simple loop calling the `predict` method on `pipe`. Note that the mean imputation and scaling is done automatically."
      ]
    },
    {
      "cell_type": "code",
      "execution_count": null,
      "metadata": {
        "execution": {
          "iopub.execute_input": "2020-12-15T21:31:58.033153Z",
          "iopub.status.busy": "2020-12-15T21:31:58.031370Z",
          "iopub.status.idle": "2020-12-15T21:31:58.033916Z",
          "shell.execute_reply": "2020-12-15T21:31:58.034444Z"
        },
        "papermill": {
          "duration": 0.092066,
          "end_time": "2020-12-15T21:31:58.034577",
          "exception": false,
          "start_time": "2020-12-15T21:31:57.942511",
          "status": "completed"
        },
        "tags": [],
        "id": "SadIq6yOvGg4"
      },
      "outputs": [],
      "source": [
        "# which pipeline are we using?\n",
        "\n",
        "pipe_prod = pipe_xgb"
      ]
    },
    {
      "cell_type": "code",
      "execution_count": null,
      "metadata": {
        "execution": {
          "iopub.execute_input": "2020-12-15T21:31:58.230475Z",
          "iopub.status.busy": "2020-12-15T21:31:58.229495Z",
          "iopub.status.idle": "2020-12-15T21:35:05.082081Z",
          "shell.execute_reply": "2020-12-15T21:35:05.082843Z"
        },
        "papermill": {
          "duration": 186.964564,
          "end_time": "2020-12-15T21:35:05.083165",
          "exception": false,
          "start_time": "2020-12-15T21:31:58.118601",
          "status": "completed"
        },
        "tags": [],
        "colab": {
          "referenced_widgets": [
            "ac84ef9d9fb84006b39618a02a6ee7f8"
          ]
        },
        "id": "Yo2wIW0KvGg4",
        "outputId": "205151be-e78a-4708-d764-95a18aaf5518"
      },
      "outputs": [
        {
          "data": {
            "application/vnd.jupyter.widget-view+json": {
              "model_id": "ac84ef9d9fb84006b39618a02a6ee7f8",
              "version_major": 2,
              "version_minor": 0
            },
            "text/plain": [
              "HBox(children=(FloatProgress(value=1.0, bar_style='info', max=1.0), HTML(value='')))"
            ]
          },
          "metadata": {},
          "output_type": "display_data"
        },
        {
          "name": "stdout",
          "output_type": "stream",
          "text": [
            "\n"
          ]
        }
      ],
      "source": [
        "env = janestreet.make_env()\n",
        "env_iter = env.iter_test()\n",
        "\n",
        "for (test_df, pred_df) in tqdm(env_iter):\n",
        "    if test_df['weight'].item() > 0:\n",
        "        pred_df.action = pipe_prod.predict(test_df.loc[:, feature_names].values)\n",
        "    else:\n",
        "        pred_df.action = 0\n",
        "    env.predict(pred_df)"
      ]
    }
  ],
  "metadata": {
    "kernelspec": {
      "display_name": "Python 3",
      "language": "python",
      "name": "python3"
    },
    "language_info": {
      "codemirror_mode": {
        "name": "ipython",
        "version": 3
      },
      "file_extension": ".py",
      "mimetype": "text/x-python",
      "name": "python",
      "nbconvert_exporter": "python",
      "pygments_lexer": "ipython3",
      "version": "3.7.6"
    },
    "papermill": {
      "duration": 4992.817321,
      "end_time": "2020-12-15T21:35:05.600170",
      "environment_variables": {},
      "exception": null,
      "input_path": "__notebook__.ipynb",
      "output_path": "__notebook__.ipynb",
      "parameters": {},
      "start_time": "2020-12-15T20:11:52.782849",
      "version": "2.1.0"
    },
    "widgets": {
      "application/vnd.jupyter.widget-state+json": {}
    },
    "colab": {
      "provenance": []
    }
  },
  "nbformat": 4,
  "nbformat_minor": 0
}